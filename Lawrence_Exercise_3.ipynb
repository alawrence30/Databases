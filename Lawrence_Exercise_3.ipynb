{
 "cells": [
  {
   "cell_type": "markdown",
   "metadata": {},
   "source": [
    "# Deliverables:\n",
    "\n",
    "- Submit two files that has the name: <font color = 'red'>YourLastName_Exercise_3:</font>\n",
    "\n",
    " 1. Your **HTML file** that has your Source code and output\n",
    " 2. Your **IPYNB script** that has your Source code and output\n",
    "\n",
    "\n",
    "# Objectives:\n",
    "\n",
    "In this exercise, you will:\n",
    "\n",
    " - Analyze the dataset in the given CSV file\n",
    " - Clean the given dataset\n",
    " - Load the dataset into sqlite database engine\n",
    " - Execute different SQL queries\n",
    "\n",
    " \n"
   ]
  },
  {
   "cell_type": "markdown",
   "metadata": {},
   "source": [
    "###   Data Preparation"
   ]
  },
  {
   "cell_type": "markdown",
   "metadata": {},
   "source": [
    "As a data scientist for BestDeal retailer, you\n",
    "have been tasked with improving their revenue and the effectiveness of the\n",
    "marketing campaign of their electronic products. The given dataset has\n",
    "10,000 records for the purchases of their customers and is used to predict\n",
    "customers shopping patterns and to provide answers for ad-hoc queries.\n",
    "The dataset DirtyData4BestDeal10000.csv is drawn from its database of\n",
    "customers."
   ]
  },
  {
   "cell_type": "code",
   "execution_count": 1,
   "metadata": {},
   "outputs": [],
   "source": [
    "# load libraries\n",
    "import pandas as pd  \n",
    "import numpy as np  \n",
    "import sqlalchemy\n",
    "from sqlalchemy import create_engine\n",
    "from sqlalchemy import inspect\n",
    "\n",
    "# set up notebook to display multiple output in one cell\n",
    "from IPython.core.interactiveshell import InteractiveShell\n",
    "InteractiveShell.ast_node_interactivity = \"all\""
   ]
  },
  {
   "cell_type": "markdown",
   "metadata": {},
   "source": [
    "### Lets read the dirtydata4bestdeal CSV and load into a dataframe object"
   ]
  },
  {
   "cell_type": "code",
   "execution_count": 2,
   "metadata": {},
   "outputs": [
    {
     "name": "stdout",
     "output_type": "stream",
     "text": [
      "<class 'pandas.core.frame.DataFrame'>\n",
      "RangeIndex: 10000 entries, 0 to 9999\n",
      "Data columns (total 34 columns):\n",
      " #   Column              Non-Null Count  Dtype  \n",
      "---  ------              --------------  -----  \n",
      " 0   ZipCode             9856 non-null   float64\n",
      " 1   CustomerAge         9856 non-null   float64\n",
      " 2   SamsungTV46LED      10000 non-null  int64  \n",
      " 3   SonyTV42LED         9984 non-null   object \n",
      " 4   XBOX360             9992 non-null   object \n",
      " 5   DellLaptop          9968 non-null   object \n",
      " 6   BoseSoundSystem     9981 non-null   object \n",
      " 7   BoseHeadSet         9976 non-null   float64\n",
      " 8   SonyHeadSet         9976 non-null   float64\n",
      " 9   iPod                9968 non-null   float64\n",
      " 10  iPhone              9984 non-null   float64\n",
      " 11  Panasonic50LED      9992 non-null   float64\n",
      " 12  SonyPS4             9999 non-null   float64\n",
      " 13  WiiU                9976 non-null   float64\n",
      " 14  WDexternalHD        9985 non-null   float64\n",
      " 15  SamsungTV55LED      9984 non-null   float64\n",
      " 16  SonyTV60LED         9993 non-null   float64\n",
      " 17  SandiskMemoryCard   9991 non-null   float64\n",
      " 18  SonySoundSystem     9999 non-null   float64\n",
      " 19  SonyCamera          10000 non-null  int64  \n",
      " 20  PanasonicCamera     10000 non-null  int64  \n",
      " 21  HPPrinter           9992 non-null   float64\n",
      " 22  SonyDVDplayer       9984 non-null   float64\n",
      " 23  ToshibaDVDplayer    9992 non-null   float64\n",
      " 24  GalaxyTablet        10000 non-null  int64  \n",
      " 25  SurfaceTablet       9986 non-null   float64\n",
      " 26  HPLaptop            9968 non-null   float64\n",
      " 27  HDMICable           9992 non-null   float64\n",
      " 28  SpeakerCable        9952 non-null   float64\n",
      " 29  CallOfDutyGame      9976 non-null   float64\n",
      " 30  GrandTheftAutoGame  9968 non-null   float64\n",
      " 31  ASUSLaptop          9960 non-null   float64\n",
      " 32  LenevoLaptop        9976 non-null   float64\n",
      " 33  TVStandWallMount    10000 non-null  int64  \n",
      "dtypes: float64(25), int64(5), object(4)\n",
      "memory usage: 2.6+ MB\n"
     ]
    }
   ],
   "source": [
    "dirtydata=pd.read_csv('DirtyData4BestDeal10000.csv')\n",
    "\n",
    "# check out the variables\n",
    "dirtydata.info()"
   ]
  },
  {
   "cell_type": "code",
   "execution_count": 3,
   "metadata": {},
   "outputs": [
    {
     "data": {
      "text/html": [
       "<div>\n",
       "<style scoped>\n",
       "    .dataframe tbody tr th:only-of-type {\n",
       "        vertical-align: middle;\n",
       "    }\n",
       "\n",
       "    .dataframe tbody tr th {\n",
       "        vertical-align: top;\n",
       "    }\n",
       "\n",
       "    .dataframe thead th {\n",
       "        text-align: right;\n",
       "    }\n",
       "</style>\n",
       "<table border=\"1\" class=\"dataframe\">\n",
       "  <thead>\n",
       "    <tr style=\"text-align: right;\">\n",
       "      <th></th>\n",
       "      <th>ZipCode</th>\n",
       "      <th>CustomerAge</th>\n",
       "      <th>SamsungTV46LED</th>\n",
       "      <th>SonyTV42LED</th>\n",
       "      <th>XBOX360</th>\n",
       "      <th>DellLaptop</th>\n",
       "      <th>BoseSoundSystem</th>\n",
       "      <th>BoseHeadSet</th>\n",
       "      <th>SonyHeadSet</th>\n",
       "      <th>iPod</th>\n",
       "      <th>...</th>\n",
       "      <th>GalaxyTablet</th>\n",
       "      <th>SurfaceTablet</th>\n",
       "      <th>HPLaptop</th>\n",
       "      <th>HDMICable</th>\n",
       "      <th>SpeakerCable</th>\n",
       "      <th>CallOfDutyGame</th>\n",
       "      <th>GrandTheftAutoGame</th>\n",
       "      <th>ASUSLaptop</th>\n",
       "      <th>LenevoLaptop</th>\n",
       "      <th>TVStandWallMount</th>\n",
       "    </tr>\n",
       "  </thead>\n",
       "  <tbody>\n",
       "    <tr>\n",
       "      <th>0</th>\n",
       "      <td>30134.0</td>\n",
       "      <td>35.0</td>\n",
       "      <td>1</td>\n",
       "      <td>1</td>\n",
       "      <td>1</td>\n",
       "      <td>0</td>\n",
       "      <td>0</td>\n",
       "      <td>1.0</td>\n",
       "      <td>1.0</td>\n",
       "      <td>0.0</td>\n",
       "      <td>...</td>\n",
       "      <td>1</td>\n",
       "      <td>0.0</td>\n",
       "      <td>1.0</td>\n",
       "      <td>1.0</td>\n",
       "      <td>1.0</td>\n",
       "      <td>1.0</td>\n",
       "      <td>0.0</td>\n",
       "      <td>1.0</td>\n",
       "      <td>1.0</td>\n",
       "      <td>1</td>\n",
       "    </tr>\n",
       "    <tr>\n",
       "      <th>1</th>\n",
       "      <td>62791.0</td>\n",
       "      <td>43.0</td>\n",
       "      <td>0</td>\n",
       "      <td>1</td>\n",
       "      <td>0</td>\n",
       "      <td>0</td>\n",
       "      <td>1</td>\n",
       "      <td>0.0</td>\n",
       "      <td>1.0</td>\n",
       "      <td>0.0</td>\n",
       "      <td>...</td>\n",
       "      <td>1</td>\n",
       "      <td>0.0</td>\n",
       "      <td>1.0</td>\n",
       "      <td>0.0</td>\n",
       "      <td>1.0</td>\n",
       "      <td>1.0</td>\n",
       "      <td>0.0</td>\n",
       "      <td>1.0</td>\n",
       "      <td>1.0</td>\n",
       "      <td>1</td>\n",
       "    </tr>\n",
       "    <tr>\n",
       "      <th>2</th>\n",
       "      <td>60611.0</td>\n",
       "      <td>23.0</td>\n",
       "      <td>1</td>\n",
       "      <td>NaN</td>\n",
       "      <td>0</td>\n",
       "      <td>1</td>\n",
       "      <td>0</td>\n",
       "      <td>NaN</td>\n",
       "      <td>1.0</td>\n",
       "      <td>1.0</td>\n",
       "      <td>...</td>\n",
       "      <td>0</td>\n",
       "      <td>0.0</td>\n",
       "      <td>1.0</td>\n",
       "      <td>0.0</td>\n",
       "      <td>1.0</td>\n",
       "      <td>1.0</td>\n",
       "      <td>0.0</td>\n",
       "      <td>NaN</td>\n",
       "      <td>1.0</td>\n",
       "      <td>1</td>\n",
       "    </tr>\n",
       "    <tr>\n",
       "      <th>3</th>\n",
       "      <td>60616.0</td>\n",
       "      <td>56.0</td>\n",
       "      <td>0</td>\n",
       "      <td>1</td>\n",
       "      <td>1</td>\n",
       "      <td>1</td>\n",
       "      <td>0</td>\n",
       "      <td>0.0</td>\n",
       "      <td>1.0</td>\n",
       "      <td>1.0</td>\n",
       "      <td>...</td>\n",
       "      <td>0</td>\n",
       "      <td>0.0</td>\n",
       "      <td>1.0</td>\n",
       "      <td>0.0</td>\n",
       "      <td>1.0</td>\n",
       "      <td>0.0</td>\n",
       "      <td>0.0</td>\n",
       "      <td>1.0</td>\n",
       "      <td>0.0</td>\n",
       "      <td>0</td>\n",
       "    </tr>\n",
       "    <tr>\n",
       "      <th>4</th>\n",
       "      <td>30303.0</td>\n",
       "      <td>25.0</td>\n",
       "      <td>1</td>\n",
       "      <td>NaN</td>\n",
       "      <td>0</td>\n",
       "      <td>NaN</td>\n",
       "      <td>1</td>\n",
       "      <td>1.0</td>\n",
       "      <td>1.0</td>\n",
       "      <td>0.0</td>\n",
       "      <td>...</td>\n",
       "      <td>1</td>\n",
       "      <td>0.0</td>\n",
       "      <td>1.0</td>\n",
       "      <td>1.0</td>\n",
       "      <td>1.0</td>\n",
       "      <td>1.0</td>\n",
       "      <td>0.0</td>\n",
       "      <td>1.0</td>\n",
       "      <td>10.0</td>\n",
       "      <td>0</td>\n",
       "    </tr>\n",
       "  </tbody>\n",
       "</table>\n",
       "<p>5 rows × 34 columns</p>\n",
       "</div>"
      ],
      "text/plain": [
       "   ZipCode  CustomerAge  SamsungTV46LED SonyTV42LED XBOX360 DellLaptop  \\\n",
       "0  30134.0         35.0               1           1       1          0   \n",
       "1  62791.0         43.0               0           1       0          0   \n",
       "2  60611.0         23.0               1         NaN       0          1   \n",
       "3  60616.0         56.0               0           1       1          1   \n",
       "4  30303.0         25.0               1         NaN       0        NaN   \n",
       "\n",
       "  BoseSoundSystem  BoseHeadSet  SonyHeadSet  iPod  ...  GalaxyTablet  \\\n",
       "0               0          1.0          1.0   0.0  ...             1   \n",
       "1               1          0.0          1.0   0.0  ...             1   \n",
       "2               0          NaN          1.0   1.0  ...             0   \n",
       "3               0          0.0          1.0   1.0  ...             0   \n",
       "4               1          1.0          1.0   0.0  ...             1   \n",
       "\n",
       "   SurfaceTablet  HPLaptop  HDMICable  SpeakerCable  CallOfDutyGame  \\\n",
       "0            0.0       1.0        1.0           1.0             1.0   \n",
       "1            0.0       1.0        0.0           1.0             1.0   \n",
       "2            0.0       1.0        0.0           1.0             1.0   \n",
       "3            0.0       1.0        0.0           1.0             0.0   \n",
       "4            0.0       1.0        1.0           1.0             1.0   \n",
       "\n",
       "   GrandTheftAutoGame  ASUSLaptop  LenevoLaptop  TVStandWallMount  \n",
       "0                 0.0         1.0           1.0                 1  \n",
       "1                 0.0         1.0           1.0                 1  \n",
       "2                 0.0         NaN           1.0                 1  \n",
       "3                 0.0         1.0           0.0                 0  \n",
       "4                 0.0         1.0          10.0                 0  \n",
       "\n",
       "[5 rows x 34 columns]"
      ]
     },
     "execution_count": 3,
     "metadata": {},
     "output_type": "execute_result"
    }
   ],
   "source": [
    "# Do you see NaN values below?\n",
    "dirtydata.head()"
   ]
  },
  {
   "cell_type": "markdown",
   "metadata": {},
   "source": [
    "### Lets use boxplot to visualize the data and get an idea if there are dirty/messy/invalid data"
   ]
  },
  {
   "cell_type": "code",
   "execution_count": 4,
   "metadata": {},
   "outputs": [
    {
     "data": {
      "text/plain": [
       "<AxesSubplot:>"
      ]
     },
     "execution_count": 4,
     "metadata": {},
     "output_type": "execute_result"
    },
    {
     "data": {
      "image/png": "[encoded data removed]",
      "text/plain": [
       "<Figure size 432x288 with 1 Axes>"
      ]
     },
     "metadata": {
      "needs_background": "light"
     },
     "output_type": "display_data"
    }
   ],
   "source": [
    "# check out customer age\n",
    "dirtydata.boxplot(column='CustomerAge')\n"
   ]
  },
  {
   "cell_type": "code",
   "execution_count": 5,
   "metadata": {},
   "outputs": [
    {
     "data": {
      "text/plain": [
       "<AxesSubplot:>"
      ]
     },
     "execution_count": 5,
     "metadata": {},
     "output_type": "execute_result"
    },
    {
     "data": {
      "image/png": "[encoded data removed]",
      "text/plain": [
       "<Figure size 432x288 with 1 Axes>"
      ]
     },
     "metadata": {
      "needs_background": "light"
     },
     "output_type": "display_data"
    }
   ],
   "source": [
    "# check out customer age with a histogram\n",
    "dirtydata['CustomerAge'].hist(bins=20)"
   ]
  },
  {
   "cell_type": "code",
   "execution_count": 6,
   "metadata": {},
   "outputs": [
    {
     "data": {
      "text/plain": [
       "count    9976.000000\n",
       "mean        0.629711\n",
       "std         0.627375\n",
       "min         0.000000\n",
       "25%         0.000000\n",
       "50%         1.000000\n",
       "75%         1.000000\n",
       "max        11.000000\n",
       "Name: LenevoLaptop, dtype: float64"
      ]
     },
     "execution_count": 6,
     "metadata": {},
     "output_type": "execute_result"
    }
   ],
   "source": [
    "# look at details of LenenovaLaptop\n",
    "dirtydata.LenevoLaptop.describe()"
   ]
  },
  {
   "cell_type": "code",
   "execution_count": 7,
   "metadata": {},
   "outputs": [
    {
     "data": {
      "text/plain": [
       "<AxesSubplot:>"
      ]
     },
     "execution_count": 7,
     "metadata": {},
     "output_type": "execute_result"
    },
    {
     "data": {
      "image/png": "[encoded data removed]",
      "text/plain": [
       "<Figure size 432x288 with 1 Axes>"
      ]
     },
     "metadata": {
      "needs_background": "light"
     },
     "output_type": "display_data"
    }
   ],
   "source": [
    "dirtydata.boxplot(column='LenevoLaptop')"
   ]
  },
  {
   "cell_type": "code",
   "execution_count": 8,
   "metadata": {},
   "outputs": [
    {
     "data": {
      "text/plain": [
       "<AxesSubplot:>"
      ]
     },
     "execution_count": 8,
     "metadata": {},
     "output_type": "execute_result"
    },
    {
     "data": {
      "image/png": "[encoded data removed]",
      "text/plain": [
       "<Figure size 432x288 with 1 Axes>"
      ]
     },
     "metadata": {
      "needs_background": "light"
     },
     "output_type": "display_data"
    }
   ],
   "source": [
    "# look at zip codes\n",
    "dirtydata.boxplot(column='ZipCode')\n"
   ]
  },
  {
   "cell_type": "markdown",
   "metadata": {},
   "source": [
    "### Lets clean the dirty/messy data in the dirtydata dataframe object"
   ]
  },
  {
   "cell_type": "markdown",
   "metadata": {},
   "source": [
    "You need to write your python code such that:\n",
    "1. rows/records/tuples/transactions in the data frame that have missing values for fields/columns will be removed\n",
    "2. rows/records/tuples/transactions in the data frame that have invalid/abnormal values for fields/columns will be removed\n",
    "\n",
    "Examples of invalid/dirty/messy data:\n",
    "  1. NaN values in the dataframe (Blank/Empty cells in the CSV file)\n",
    "\n",
    "  2. Every product has a value 1 which means bought or 0 which means NOT bought; values like 11, 10, 9 are examples of invalid data\n",
    "\n",
    "  3. CustomerAge value range could be from 18 to 100; values like 723, 634 are examples of invalid data\n",
    "  \n",
    "  4. Zipcode should have 5 digits\n"
   ]
  },
  {
   "cell_type": "code",
   "execution_count": 9,
   "metadata": {
    "scrolled": true
   },
   "outputs": [
    {
     "data": {
      "text/plain": [
       "(10000, 34)"
      ]
     },
     "execution_count": 9,
     "metadata": {},
     "output_type": "execute_result"
    },
    {
     "data": {
      "text/plain": [
       "(9432, 34)"
      ]
     },
     "execution_count": 9,
     "metadata": {},
     "output_type": "execute_result"
    },
    {
     "data": {
      "text/html": [
       "<div>\n",
       "<style scoped>\n",
       "    .dataframe tbody tr th:only-of-type {\n",
       "        vertical-align: middle;\n",
       "    }\n",
       "\n",
       "    .dataframe tbody tr th {\n",
       "        vertical-align: top;\n",
       "    }\n",
       "\n",
       "    .dataframe thead th {\n",
       "        text-align: right;\n",
       "    }\n",
       "</style>\n",
       "<table border=\"1\" class=\"dataframe\">\n",
       "  <thead>\n",
       "    <tr style=\"text-align: right;\">\n",
       "      <th></th>\n",
       "      <th>ZipCode</th>\n",
       "      <th>CustomerAge</th>\n",
       "      <th>SamsungTV46LED</th>\n",
       "      <th>SonyTV42LED</th>\n",
       "      <th>XBOX360</th>\n",
       "      <th>DellLaptop</th>\n",
       "      <th>BoseSoundSystem</th>\n",
       "      <th>BoseHeadSet</th>\n",
       "      <th>SonyHeadSet</th>\n",
       "      <th>iPod</th>\n",
       "      <th>...</th>\n",
       "      <th>GalaxyTablet</th>\n",
       "      <th>SurfaceTablet</th>\n",
       "      <th>HPLaptop</th>\n",
       "      <th>HDMICable</th>\n",
       "      <th>SpeakerCable</th>\n",
       "      <th>CallOfDutyGame</th>\n",
       "      <th>GrandTheftAutoGame</th>\n",
       "      <th>ASUSLaptop</th>\n",
       "      <th>LenevoLaptop</th>\n",
       "      <th>TVStandWallMount</th>\n",
       "    </tr>\n",
       "  </thead>\n",
       "  <tbody>\n",
       "    <tr>\n",
       "      <th>0</th>\n",
       "      <td>30134.0</td>\n",
       "      <td>35.0</td>\n",
       "      <td>1</td>\n",
       "      <td>1</td>\n",
       "      <td>1</td>\n",
       "      <td>0</td>\n",
       "      <td>0</td>\n",
       "      <td>1.0</td>\n",
       "      <td>1.0</td>\n",
       "      <td>0.0</td>\n",
       "      <td>...</td>\n",
       "      <td>1</td>\n",
       "      <td>0.0</td>\n",
       "      <td>1.0</td>\n",
       "      <td>1.0</td>\n",
       "      <td>1.0</td>\n",
       "      <td>1.0</td>\n",
       "      <td>0.0</td>\n",
       "      <td>1.0</td>\n",
       "      <td>1.0</td>\n",
       "      <td>1</td>\n",
       "    </tr>\n",
       "    <tr>\n",
       "      <th>1</th>\n",
       "      <td>62791.0</td>\n",
       "      <td>43.0</td>\n",
       "      <td>0</td>\n",
       "      <td>1</td>\n",
       "      <td>0</td>\n",
       "      <td>0</td>\n",
       "      <td>1</td>\n",
       "      <td>0.0</td>\n",
       "      <td>1.0</td>\n",
       "      <td>0.0</td>\n",
       "      <td>...</td>\n",
       "      <td>1</td>\n",
       "      <td>0.0</td>\n",
       "      <td>1.0</td>\n",
       "      <td>0.0</td>\n",
       "      <td>1.0</td>\n",
       "      <td>1.0</td>\n",
       "      <td>0.0</td>\n",
       "      <td>1.0</td>\n",
       "      <td>1.0</td>\n",
       "      <td>1</td>\n",
       "    </tr>\n",
       "    <tr>\n",
       "      <th>3</th>\n",
       "      <td>60616.0</td>\n",
       "      <td>56.0</td>\n",
       "      <td>0</td>\n",
       "      <td>1</td>\n",
       "      <td>1</td>\n",
       "      <td>1</td>\n",
       "      <td>0</td>\n",
       "      <td>0.0</td>\n",
       "      <td>1.0</td>\n",
       "      <td>1.0</td>\n",
       "      <td>...</td>\n",
       "      <td>0</td>\n",
       "      <td>0.0</td>\n",
       "      <td>1.0</td>\n",
       "      <td>0.0</td>\n",
       "      <td>1.0</td>\n",
       "      <td>0.0</td>\n",
       "      <td>0.0</td>\n",
       "      <td>1.0</td>\n",
       "      <td>0.0</td>\n",
       "      <td>0</td>\n",
       "    </tr>\n",
       "    <tr>\n",
       "      <th>5</th>\n",
       "      <td>2108.0</td>\n",
       "      <td>55.0</td>\n",
       "      <td>1</td>\n",
       "      <td>1</td>\n",
       "      <td>1</td>\n",
       "      <td>1</td>\n",
       "      <td>10</td>\n",
       "      <td>0.0</td>\n",
       "      <td>0.0</td>\n",
       "      <td>0.0</td>\n",
       "      <td>...</td>\n",
       "      <td>1</td>\n",
       "      <td>1.0</td>\n",
       "      <td>1.0</td>\n",
       "      <td>1.0</td>\n",
       "      <td>1.0</td>\n",
       "      <td>1.0</td>\n",
       "      <td>0.0</td>\n",
       "      <td>1.0</td>\n",
       "      <td>0.0</td>\n",
       "      <td>0</td>\n",
       "    </tr>\n",
       "    <tr>\n",
       "      <th>6</th>\n",
       "      <td>90033.0</td>\n",
       "      <td>44.0</td>\n",
       "      <td>1</td>\n",
       "      <td>1</td>\n",
       "      <td>1</td>\n",
       "      <td>1</td>\n",
       "      <td>0</td>\n",
       "      <td>0.0</td>\n",
       "      <td>0.0</td>\n",
       "      <td>0.0</td>\n",
       "      <td>...</td>\n",
       "      <td>1</td>\n",
       "      <td>1.0</td>\n",
       "      <td>1.0</td>\n",
       "      <td>1.0</td>\n",
       "      <td>0.0</td>\n",
       "      <td>1.0</td>\n",
       "      <td>1.0</td>\n",
       "      <td>0.0</td>\n",
       "      <td>0.0</td>\n",
       "      <td>1</td>\n",
       "    </tr>\n",
       "  </tbody>\n",
       "</table>\n",
       "<p>5 rows × 34 columns</p>\n",
       "</div>"
      ],
      "text/plain": [
       "   ZipCode  CustomerAge  SamsungTV46LED SonyTV42LED XBOX360 DellLaptop  \\\n",
       "0  30134.0         35.0               1           1       1          0   \n",
       "1  62791.0         43.0               0           1       0          0   \n",
       "3  60616.0         56.0               0           1       1          1   \n",
       "5   2108.0         55.0               1           1       1          1   \n",
       "6  90033.0         44.0               1           1       1          1   \n",
       "\n",
       "  BoseSoundSystem  BoseHeadSet  SonyHeadSet  iPod  ...  GalaxyTablet  \\\n",
       "0               0          1.0          1.0   0.0  ...             1   \n",
       "1               1          0.0          1.0   0.0  ...             1   \n",
       "3               0          0.0          1.0   1.0  ...             0   \n",
       "5              10          0.0          0.0   0.0  ...             1   \n",
       "6               0          0.0          0.0   0.0  ...             1   \n",
       "\n",
       "   SurfaceTablet  HPLaptop  HDMICable  SpeakerCable  CallOfDutyGame  \\\n",
       "0            0.0       1.0        1.0           1.0             1.0   \n",
       "1            0.0       1.0        0.0           1.0             1.0   \n",
       "3            0.0       1.0        0.0           1.0             0.0   \n",
       "5            1.0       1.0        1.0           1.0             1.0   \n",
       "6            1.0       1.0        1.0           0.0             1.0   \n",
       "\n",
       "   GrandTheftAutoGame  ASUSLaptop  LenevoLaptop  TVStandWallMount  \n",
       "0                 0.0         1.0           1.0                 1  \n",
       "1                 0.0         1.0           1.0                 1  \n",
       "3                 0.0         1.0           0.0                 0  \n",
       "5                 0.0         1.0           0.0                 0  \n",
       "6                 1.0         0.0           0.0                 1  \n",
       "\n",
       "[5 rows x 34 columns]"
      ]
     },
     "execution_count": 9,
     "metadata": {},
     "output_type": "execute_result"
    }
   ],
   "source": [
    "# what is the shape of cleandata before manipulating it?\n",
    "dirtydata.shape\n",
    "\n",
    "# Drop the NaN values - remember that dropna will make a new copy of the dataframe\n",
    "cleandata = dirtydata.dropna()\n",
    "\n",
    "# how did this affect the data?\n",
    "cleandata.shape\n",
    "\n",
    "# Do you see NaN values dropped below?\n",
    "cleandata.head()"
   ]
  },
  {
   "cell_type": "code",
   "execution_count": 10,
   "metadata": {},
   "outputs": [
    {
     "data": {
      "text/plain": [
       "ZipCode               float64\n",
       "CustomerAge           float64\n",
       "SamsungTV46LED          int64\n",
       "SonyTV42LED            object\n",
       "XBOX360                object\n",
       "DellLaptop             object\n",
       "BoseSoundSystem        object\n",
       "BoseHeadSet           float64\n",
       "SonyHeadSet           float64\n",
       "iPod                  float64\n",
       "iPhone                float64\n",
       "Panasonic50LED        float64\n",
       "SonyPS4               float64\n",
       "WiiU                  float64\n",
       "WDexternalHD          float64\n",
       "SamsungTV55LED        float64\n",
       "SonyTV60LED           float64\n",
       "SandiskMemoryCard     float64\n",
       "SonySoundSystem       float64\n",
       "SonyCamera              int64\n",
       "PanasonicCamera         int64\n",
       "HPPrinter             float64\n",
       "SonyDVDplayer         float64\n",
       "ToshibaDVDplayer      float64\n",
       "GalaxyTablet            int64\n",
       "SurfaceTablet         float64\n",
       "HPLaptop              float64\n",
       "HDMICable             float64\n",
       "SpeakerCable          float64\n",
       "CallOfDutyGame        float64\n",
       "GrandTheftAutoGame    float64\n",
       "ASUSLaptop            float64\n",
       "LenevoLaptop          float64\n",
       "TVStandWallMount        int64\n",
       "dtype: object"
      ]
     },
     "execution_count": 10,
     "metadata": {},
     "output_type": "execute_result"
    }
   ],
   "source": [
    "#Explore Data\n",
    "cleandata.dtypes"
   ]
  },
  {
   "cell_type": "code",
   "execution_count": 11,
   "metadata": {},
   "outputs": [
    {
     "data": {
      "text/plain": [
       "30134.0    1173\n",
       "30303.0    1001\n",
       "60616.0     960\n",
       "2109.0      955\n",
       "10065.0     788\n",
       "Name: ZipCode, dtype: int64"
      ]
     },
     "execution_count": 11,
     "metadata": {},
     "output_type": "execute_result"
    }
   ],
   "source": [
    "#Explore data\n",
    "cleandata.ZipCode.value_counts().head()"
   ]
  },
  {
   "cell_type": "code",
   "execution_count": 12,
   "metadata": {},
   "outputs": [],
   "source": [
    "# ----------------------------------------------------------------------------------\n",
    "\n",
    "\n",
    "# Add the rest of your code here to clean the data\n",
    "\n",
    "#steps you must take\n",
    "#- eliminate NA's\n",
    "#- product values should only be either a 0 or a 1\n",
    "#- customer's age needs to be valid\n",
    "#- zipcodes should have 5 digits\n",
    "# - all numbers should be integers\n",
    "\n",
    "# Optional steps\n",
    "# - if there are other things you want to clean, clearly document them\n",
    "#   and run them in this section before you create a database\n",
    "\n",
    "\n",
    "# ----------------------------------------------------------------------------------"
   ]
  },
  {
   "cell_type": "code",
   "execution_count": 13,
   "metadata": {},
   "outputs": [
    {
     "name": "stderr",
     "output_type": "stream",
     "text": [
      "<ipython-input-13-4e96d70b0d61>:3: SettingWithCopyWarning: \n",
      "A value is trying to be set on a copy of a slice from a DataFrame.\n",
      "Try using .loc[row_indexer,col_indexer] = value instead\n",
      "\n",
      "See the caveats in the documentation: https://pandas.pydata.org/pandas-docs/stable/user_guide/indexing.html#returning-a-view-versus-a-copy\n",
      "  cleandata['SonyTV42LED'] = pd.to_numeric(cleandata['SonyTV42LED'],errors='coerce')\n",
      "<ipython-input-13-4e96d70b0d61>:4: SettingWithCopyWarning: \n",
      "A value is trying to be set on a copy of a slice from a DataFrame.\n",
      "Try using .loc[row_indexer,col_indexer] = value instead\n",
      "\n",
      "See the caveats in the documentation: https://pandas.pydata.org/pandas-docs/stable/user_guide/indexing.html#returning-a-view-versus-a-copy\n",
      "  cleandata['XBOX360'] = pd.to_numeric(cleandata['XBOX360'] ,errors='coerce')\n",
      "<ipython-input-13-4e96d70b0d61>:5: SettingWithCopyWarning: \n",
      "A value is trying to be set on a copy of a slice from a DataFrame.\n",
      "Try using .loc[row_indexer,col_indexer] = value instead\n",
      "\n",
      "See the caveats in the documentation: https://pandas.pydata.org/pandas-docs/stable/user_guide/indexing.html#returning-a-view-versus-a-copy\n",
      "  cleandata['DellLaptop'] = pd.to_numeric(cleandata['DellLaptop'],errors='coerce')\n",
      "<ipython-input-13-4e96d70b0d61>:6: SettingWithCopyWarning: \n",
      "A value is trying to be set on a copy of a slice from a DataFrame.\n",
      "Try using .loc[row_indexer,col_indexer] = value instead\n",
      "\n",
      "See the caveats in the documentation: https://pandas.pydata.org/pandas-docs/stable/user_guide/indexing.html#returning-a-view-versus-a-copy\n",
      "  cleandata['BoseSoundSystem'] = pd.to_numeric(cleandata['BoseSoundSystem'],errors='coerce')\n"
     ]
    },
    {
     "data": {
      "text/plain": [
       "(9432, 34)"
      ]
     },
     "execution_count": 13,
     "metadata": {},
     "output_type": "execute_result"
    },
    {
     "name": "stdout",
     "output_type": "stream",
     "text": [
      "<class 'pandas.core.frame.DataFrame'>\n",
      "Int64Index: 9432 entries, 0 to 9999\n",
      "Data columns (total 34 columns):\n",
      " #   Column              Non-Null Count  Dtype  \n",
      "---  ------              --------------  -----  \n",
      " 0   ZipCode             9432 non-null   float64\n",
      " 1   CustomerAge         9432 non-null   float64\n",
      " 2   SamsungTV46LED      9432 non-null   int64  \n",
      " 3   SonyTV42LED         9431 non-null   float64\n",
      " 4   XBOX360             9430 non-null   float64\n",
      " 5   DellLaptop          9430 non-null   float64\n",
      " 6   BoseSoundSystem     9431 non-null   float64\n",
      " 7   BoseHeadSet         9432 non-null   float64\n",
      " 8   SonyHeadSet         9432 non-null   float64\n",
      " 9   iPod                9432 non-null   float64\n",
      " 10  iPhone              9432 non-null   float64\n",
      " 11  Panasonic50LED      9432 non-null   float64\n",
      " 12  SonyPS4             9432 non-null   float64\n",
      " 13  WiiU                9432 non-null   float64\n",
      " 14  WDexternalHD        9432 non-null   float64\n",
      " 15  SamsungTV55LED      9432 non-null   float64\n",
      " 16  SonyTV60LED         9432 non-null   float64\n",
      " 17  SandiskMemoryCard   9432 non-null   float64\n",
      " 18  SonySoundSystem     9432 non-null   float64\n",
      " 19  SonyCamera          9432 non-null   int64  \n",
      " 20  PanasonicCamera     9432 non-null   int64  \n",
      " 21  HPPrinter           9432 non-null   float64\n",
      " 22  SonyDVDplayer       9432 non-null   float64\n",
      " 23  ToshibaDVDplayer    9432 non-null   float64\n",
      " 24  GalaxyTablet        9432 non-null   int64  \n",
      " 25  SurfaceTablet       9432 non-null   float64\n",
      " 26  HPLaptop            9432 non-null   float64\n",
      " 27  HDMICable           9432 non-null   float64\n",
      " 28  SpeakerCable        9432 non-null   float64\n",
      " 29  CallOfDutyGame      9432 non-null   float64\n",
      " 30  GrandTheftAutoGame  9432 non-null   float64\n",
      " 31  ASUSLaptop          9432 non-null   float64\n",
      " 32  LenevoLaptop        9432 non-null   float64\n",
      " 33  TVStandWallMount    9432 non-null   int64  \n",
      "dtypes: float64(29), int64(5)\n",
      "memory usage: 2.5 MB\n"
     ]
    }
   ],
   "source": [
    "#Change columns from objects to floats\n",
    "\n",
    "cleandata['SonyTV42LED'] = pd.to_numeric(cleandata['SonyTV42LED'],errors='coerce')\n",
    "cleandata['XBOX360'] = pd.to_numeric(cleandata['XBOX360'] ,errors='coerce')\n",
    "cleandata['DellLaptop'] = pd.to_numeric(cleandata['DellLaptop'],errors='coerce')\n",
    "cleandata['BoseSoundSystem'] = pd.to_numeric(cleandata['BoseSoundSystem'],errors='coerce')\n",
    "\n",
    "cleandata.shape\n",
    "cleandata.info()"
   ]
  },
  {
   "cell_type": "code",
   "execution_count": 17,
   "metadata": {},
   "outputs": [
    {
     "data": {
      "text/plain": [
       "(9430, 34)"
      ]
     },
     "execution_count": 17,
     "metadata": {},
     "output_type": "execute_result"
    }
   ],
   "source": [
    "#HAD TO DO THIS STEM TO CHANGE TO INTEGERS\n",
    "#Drop all NaN values \n",
    "cleandata = cleandata.dropna()\n",
    "\n",
    "#Change columns to integers\n",
    "cleandata = cleandata.astype(int)\n",
    "\n",
    "cleandata.shape"
   ]
  },
  {
   "cell_type": "code",
   "execution_count": 19,
   "metadata": {},
   "outputs": [
    {
     "data": {
      "text/plain": [
       "(7512, 34)"
      ]
     },
     "execution_count": 19,
     "metadata": {},
     "output_type": "execute_result"
    }
   ],
   "source": [
    "#I HAD A BIG DROP IN ROWS AFTER THE AGE AND ZIP CODE CLEANING\n",
    "\n",
    "#Age\n",
    "cleandata = cleandata[cleandata.CustomerAge.between(18,100)]\n",
    "\n",
    "#Zip Code\n",
    "cleandata = cleandata[cleandata.ZipCode.astype(str).str.len() == 5]\n",
    "\n",
    "cleandata.shape"
   ]
  },
  {
   "cell_type": "code",
   "execution_count": 20,
   "metadata": {},
   "outputs": [
    {
     "data": {
      "text/plain": [
       "(7512, 34)"
      ]
     },
     "execution_count": 20,
     "metadata": {},
     "output_type": "execute_result"
    }
   ],
   "source": [
    "#Replace any values that are not 0 or 1 in the specified columns with 'NaN'\n",
    "cleandata[~cleandata[['SamsungTV46LED','SonyTV42LED', 'XBOX360' , 'DellLaptop' , 'BoseSoundSystem' , \\\n",
    "                      'BoseHeadSet' , 'SonyHeadSet' , 'iPod' , 'iPhone' , 'Panasonic50LED' , 'SonyPS4' , \\\n",
    "                      'WiiU' , 'WDexternalHD' , 'SamsungTV55LED' , 'SonyTV60LED' , 'SandiskMemoryCard', \\\n",
    "                      'SonySoundSystem' , 'SonyCamera' , 'PanasonicCamera' , 'HPPrinter' , 'SonyDVDplayer', \\\n",
    "                      'ToshibaDVDplayer' , 'GalaxyTablet' , 'SurfaceTablet' , 'HPLaptop' , 'HDMICable' , \\\n",
    "                      'SpeakerCable' , 'CallOfDutyGame' , 'GrandTheftAutoGame' , 'ASUSLaptop' , \\\n",
    "                      'LenevoLaptop' , 'TVStandWallMount' ,\\\n",
    "                     ]].isin([0,1])]= np.nan\n",
    "\n",
    "cleandata.shape"
   ]
  },
  {
   "cell_type": "code",
   "execution_count": 21,
   "metadata": {},
   "outputs": [
    {
     "data": {
      "text/plain": [
       "(7338, 34)"
      ]
     },
     "execution_count": 21,
     "metadata": {},
     "output_type": "execute_result"
    },
    {
     "data": {
      "text/html": [
       "<div>\n",
       "<style scoped>\n",
       "    .dataframe tbody tr th:only-of-type {\n",
       "        vertical-align: middle;\n",
       "    }\n",
       "\n",
       "    .dataframe tbody tr th {\n",
       "        vertical-align: top;\n",
       "    }\n",
       "\n",
       "    .dataframe thead th {\n",
       "        text-align: right;\n",
       "    }\n",
       "</style>\n",
       "<table border=\"1\" class=\"dataframe\">\n",
       "  <thead>\n",
       "    <tr style=\"text-align: right;\">\n",
       "      <th></th>\n",
       "      <th>ZipCode</th>\n",
       "      <th>CustomerAge</th>\n",
       "      <th>SamsungTV46LED</th>\n",
       "      <th>SonyTV42LED</th>\n",
       "      <th>XBOX360</th>\n",
       "      <th>DellLaptop</th>\n",
       "      <th>BoseSoundSystem</th>\n",
       "      <th>BoseHeadSet</th>\n",
       "      <th>SonyHeadSet</th>\n",
       "      <th>iPod</th>\n",
       "      <th>...</th>\n",
       "      <th>GalaxyTablet</th>\n",
       "      <th>SurfaceTablet</th>\n",
       "      <th>HPLaptop</th>\n",
       "      <th>HDMICable</th>\n",
       "      <th>SpeakerCable</th>\n",
       "      <th>CallOfDutyGame</th>\n",
       "      <th>GrandTheftAutoGame</th>\n",
       "      <th>ASUSLaptop</th>\n",
       "      <th>LenevoLaptop</th>\n",
       "      <th>TVStandWallMount</th>\n",
       "    </tr>\n",
       "  </thead>\n",
       "  <tbody>\n",
       "    <tr>\n",
       "      <th>0</th>\n",
       "      <td>30134</td>\n",
       "      <td>35</td>\n",
       "      <td>1</td>\n",
       "      <td>1</td>\n",
       "      <td>1</td>\n",
       "      <td>0.0</td>\n",
       "      <td>0</td>\n",
       "      <td>1.0</td>\n",
       "      <td>1</td>\n",
       "      <td>0.0</td>\n",
       "      <td>...</td>\n",
       "      <td>1.0</td>\n",
       "      <td>0.0</td>\n",
       "      <td>1</td>\n",
       "      <td>1</td>\n",
       "      <td>1.0</td>\n",
       "      <td>1</td>\n",
       "      <td>0.0</td>\n",
       "      <td>1</td>\n",
       "      <td>1</td>\n",
       "      <td>1.0</td>\n",
       "    </tr>\n",
       "    <tr>\n",
       "      <th>1</th>\n",
       "      <td>62791</td>\n",
       "      <td>43</td>\n",
       "      <td>0</td>\n",
       "      <td>1</td>\n",
       "      <td>0</td>\n",
       "      <td>0.0</td>\n",
       "      <td>1</td>\n",
       "      <td>0.0</td>\n",
       "      <td>1</td>\n",
       "      <td>0.0</td>\n",
       "      <td>...</td>\n",
       "      <td>1.0</td>\n",
       "      <td>0.0</td>\n",
       "      <td>1</td>\n",
       "      <td>0</td>\n",
       "      <td>1.0</td>\n",
       "      <td>1</td>\n",
       "      <td>0.0</td>\n",
       "      <td>1</td>\n",
       "      <td>1</td>\n",
       "      <td>1.0</td>\n",
       "    </tr>\n",
       "    <tr>\n",
       "      <th>3</th>\n",
       "      <td>60616</td>\n",
       "      <td>56</td>\n",
       "      <td>0</td>\n",
       "      <td>1</td>\n",
       "      <td>1</td>\n",
       "      <td>1.0</td>\n",
       "      <td>0</td>\n",
       "      <td>0.0</td>\n",
       "      <td>1</td>\n",
       "      <td>1.0</td>\n",
       "      <td>...</td>\n",
       "      <td>0.0</td>\n",
       "      <td>0.0</td>\n",
       "      <td>1</td>\n",
       "      <td>0</td>\n",
       "      <td>1.0</td>\n",
       "      <td>0</td>\n",
       "      <td>0.0</td>\n",
       "      <td>1</td>\n",
       "      <td>0</td>\n",
       "      <td>0.0</td>\n",
       "    </tr>\n",
       "    <tr>\n",
       "      <th>6</th>\n",
       "      <td>90033</td>\n",
       "      <td>44</td>\n",
       "      <td>1</td>\n",
       "      <td>1</td>\n",
       "      <td>1</td>\n",
       "      <td>1.0</td>\n",
       "      <td>0</td>\n",
       "      <td>0.0</td>\n",
       "      <td>0</td>\n",
       "      <td>0.0</td>\n",
       "      <td>...</td>\n",
       "      <td>1.0</td>\n",
       "      <td>1.0</td>\n",
       "      <td>1</td>\n",
       "      <td>1</td>\n",
       "      <td>0.0</td>\n",
       "      <td>1</td>\n",
       "      <td>1.0</td>\n",
       "      <td>0</td>\n",
       "      <td>0</td>\n",
       "      <td>1.0</td>\n",
       "    </tr>\n",
       "    <tr>\n",
       "      <th>13</th>\n",
       "      <td>62791</td>\n",
       "      <td>27</td>\n",
       "      <td>1</td>\n",
       "      <td>1</td>\n",
       "      <td>0</td>\n",
       "      <td>1.0</td>\n",
       "      <td>0</td>\n",
       "      <td>0.0</td>\n",
       "      <td>0</td>\n",
       "      <td>0.0</td>\n",
       "      <td>...</td>\n",
       "      <td>1.0</td>\n",
       "      <td>1.0</td>\n",
       "      <td>1</td>\n",
       "      <td>0</td>\n",
       "      <td>0.0</td>\n",
       "      <td>1</td>\n",
       "      <td>0.0</td>\n",
       "      <td>1</td>\n",
       "      <td>1</td>\n",
       "      <td>1.0</td>\n",
       "    </tr>\n",
       "    <tr>\n",
       "      <th>16</th>\n",
       "      <td>60616</td>\n",
       "      <td>43</td>\n",
       "      <td>0</td>\n",
       "      <td>1</td>\n",
       "      <td>1</td>\n",
       "      <td>0.0</td>\n",
       "      <td>1</td>\n",
       "      <td>0.0</td>\n",
       "      <td>1</td>\n",
       "      <td>0.0</td>\n",
       "      <td>...</td>\n",
       "      <td>1.0</td>\n",
       "      <td>0.0</td>\n",
       "      <td>1</td>\n",
       "      <td>1</td>\n",
       "      <td>1.0</td>\n",
       "      <td>1</td>\n",
       "      <td>0.0</td>\n",
       "      <td>1</td>\n",
       "      <td>1</td>\n",
       "      <td>1.0</td>\n",
       "    </tr>\n",
       "    <tr>\n",
       "      <th>18</th>\n",
       "      <td>60616</td>\n",
       "      <td>54</td>\n",
       "      <td>1</td>\n",
       "      <td>0</td>\n",
       "      <td>0</td>\n",
       "      <td>1.0</td>\n",
       "      <td>0</td>\n",
       "      <td>1.0</td>\n",
       "      <td>1</td>\n",
       "      <td>0.0</td>\n",
       "      <td>...</td>\n",
       "      <td>0.0</td>\n",
       "      <td>1.0</td>\n",
       "      <td>1</td>\n",
       "      <td>0</td>\n",
       "      <td>1.0</td>\n",
       "      <td>1</td>\n",
       "      <td>0.0</td>\n",
       "      <td>1</td>\n",
       "      <td>1</td>\n",
       "      <td>1.0</td>\n",
       "    </tr>\n",
       "    <tr>\n",
       "      <th>19</th>\n",
       "      <td>60603</td>\n",
       "      <td>59</td>\n",
       "      <td>0</td>\n",
       "      <td>1</td>\n",
       "      <td>1</td>\n",
       "      <td>1.0</td>\n",
       "      <td>0</td>\n",
       "      <td>0.0</td>\n",
       "      <td>1</td>\n",
       "      <td>1.0</td>\n",
       "      <td>...</td>\n",
       "      <td>1.0</td>\n",
       "      <td>0.0</td>\n",
       "      <td>1</td>\n",
       "      <td>0</td>\n",
       "      <td>0.0</td>\n",
       "      <td>1</td>\n",
       "      <td>1.0</td>\n",
       "      <td>0</td>\n",
       "      <td>0</td>\n",
       "      <td>1.0</td>\n",
       "    </tr>\n",
       "    <tr>\n",
       "      <th>20</th>\n",
       "      <td>30134</td>\n",
       "      <td>28</td>\n",
       "      <td>1</td>\n",
       "      <td>1</td>\n",
       "      <td>1</td>\n",
       "      <td>0.0</td>\n",
       "      <td>1</td>\n",
       "      <td>1.0</td>\n",
       "      <td>1</td>\n",
       "      <td>0.0</td>\n",
       "      <td>...</td>\n",
       "      <td>0.0</td>\n",
       "      <td>1.0</td>\n",
       "      <td>1</td>\n",
       "      <td>0</td>\n",
       "      <td>1.0</td>\n",
       "      <td>0</td>\n",
       "      <td>0.0</td>\n",
       "      <td>1</td>\n",
       "      <td>1</td>\n",
       "      <td>0.0</td>\n",
       "    </tr>\n",
       "    <tr>\n",
       "      <th>21</th>\n",
       "      <td>33130</td>\n",
       "      <td>27</td>\n",
       "      <td>1</td>\n",
       "      <td>1</td>\n",
       "      <td>1</td>\n",
       "      <td>1.0</td>\n",
       "      <td>0</td>\n",
       "      <td>0.0</td>\n",
       "      <td>0</td>\n",
       "      <td>0.0</td>\n",
       "      <td>...</td>\n",
       "      <td>1.0</td>\n",
       "      <td>0.0</td>\n",
       "      <td>1</td>\n",
       "      <td>0</td>\n",
       "      <td>0.0</td>\n",
       "      <td>1</td>\n",
       "      <td>0.0</td>\n",
       "      <td>1</td>\n",
       "      <td>1</td>\n",
       "      <td>1.0</td>\n",
       "    </tr>\n",
       "    <tr>\n",
       "      <th>23</th>\n",
       "      <td>60616</td>\n",
       "      <td>43</td>\n",
       "      <td>1</td>\n",
       "      <td>1</td>\n",
       "      <td>1</td>\n",
       "      <td>0.0</td>\n",
       "      <td>1</td>\n",
       "      <td>1.0</td>\n",
       "      <td>1</td>\n",
       "      <td>0.0</td>\n",
       "      <td>...</td>\n",
       "      <td>1.0</td>\n",
       "      <td>1.0</td>\n",
       "      <td>1</td>\n",
       "      <td>1</td>\n",
       "      <td>0.0</td>\n",
       "      <td>1</td>\n",
       "      <td>0.0</td>\n",
       "      <td>1</td>\n",
       "      <td>1</td>\n",
       "      <td>1.0</td>\n",
       "    </tr>\n",
       "    <tr>\n",
       "      <th>24</th>\n",
       "      <td>30303</td>\n",
       "      <td>43</td>\n",
       "      <td>0</td>\n",
       "      <td>1</td>\n",
       "      <td>1</td>\n",
       "      <td>0.0</td>\n",
       "      <td>1</td>\n",
       "      <td>0.0</td>\n",
       "      <td>1</td>\n",
       "      <td>0.0</td>\n",
       "      <td>...</td>\n",
       "      <td>1.0</td>\n",
       "      <td>0.0</td>\n",
       "      <td>1</td>\n",
       "      <td>1</td>\n",
       "      <td>1.0</td>\n",
       "      <td>1</td>\n",
       "      <td>0.0</td>\n",
       "      <td>1</td>\n",
       "      <td>1</td>\n",
       "      <td>1.0</td>\n",
       "    </tr>\n",
       "    <tr>\n",
       "      <th>26</th>\n",
       "      <td>90033</td>\n",
       "      <td>56</td>\n",
       "      <td>0</td>\n",
       "      <td>1</td>\n",
       "      <td>1</td>\n",
       "      <td>1.0</td>\n",
       "      <td>0</td>\n",
       "      <td>0.0</td>\n",
       "      <td>1</td>\n",
       "      <td>1.0</td>\n",
       "      <td>...</td>\n",
       "      <td>1.0</td>\n",
       "      <td>0.0</td>\n",
       "      <td>1</td>\n",
       "      <td>1</td>\n",
       "      <td>1.0</td>\n",
       "      <td>0</td>\n",
       "      <td>0.0</td>\n",
       "      <td>1</td>\n",
       "      <td>1</td>\n",
       "      <td>0.0</td>\n",
       "    </tr>\n",
       "    <tr>\n",
       "      <th>28</th>\n",
       "      <td>90024</td>\n",
       "      <td>51</td>\n",
       "      <td>1</td>\n",
       "      <td>0</td>\n",
       "      <td>1</td>\n",
       "      <td>1.0</td>\n",
       "      <td>0</td>\n",
       "      <td>0.0</td>\n",
       "      <td>0</td>\n",
       "      <td>0.0</td>\n",
       "      <td>...</td>\n",
       "      <td>1.0</td>\n",
       "      <td>0.0</td>\n",
       "      <td>1</td>\n",
       "      <td>1</td>\n",
       "      <td>1.0</td>\n",
       "      <td>1</td>\n",
       "      <td>0.0</td>\n",
       "      <td>1</td>\n",
       "      <td>1</td>\n",
       "      <td>1.0</td>\n",
       "    </tr>\n",
       "    <tr>\n",
       "      <th>30</th>\n",
       "      <td>90024</td>\n",
       "      <td>37</td>\n",
       "      <td>0</td>\n",
       "      <td>1</td>\n",
       "      <td>1</td>\n",
       "      <td>0.0</td>\n",
       "      <td>1</td>\n",
       "      <td>0.0</td>\n",
       "      <td>1</td>\n",
       "      <td>0.0</td>\n",
       "      <td>...</td>\n",
       "      <td>1.0</td>\n",
       "      <td>0.0</td>\n",
       "      <td>1</td>\n",
       "      <td>1</td>\n",
       "      <td>1.0</td>\n",
       "      <td>0</td>\n",
       "      <td>0.0</td>\n",
       "      <td>1</td>\n",
       "      <td>1</td>\n",
       "      <td>0.0</td>\n",
       "    </tr>\n",
       "  </tbody>\n",
       "</table>\n",
       "<p>15 rows × 34 columns</p>\n",
       "</div>"
      ],
      "text/plain": [
       "    ZipCode  CustomerAge  SamsungTV46LED  SonyTV42LED  XBOX360  DellLaptop  \\\n",
       "0     30134           35               1            1        1         0.0   \n",
       "1     62791           43               0            1        0         0.0   \n",
       "3     60616           56               0            1        1         1.0   \n",
       "6     90033           44               1            1        1         1.0   \n",
       "13    62791           27               1            1        0         1.0   \n",
       "16    60616           43               0            1        1         0.0   \n",
       "18    60616           54               1            0        0         1.0   \n",
       "19    60603           59               0            1        1         1.0   \n",
       "20    30134           28               1            1        1         0.0   \n",
       "21    33130           27               1            1        1         1.0   \n",
       "23    60616           43               1            1        1         0.0   \n",
       "24    30303           43               0            1        1         0.0   \n",
       "26    90033           56               0            1        1         1.0   \n",
       "28    90024           51               1            0        1         1.0   \n",
       "30    90024           37               0            1        1         0.0   \n",
       "\n",
       "    BoseSoundSystem  BoseHeadSet  SonyHeadSet  iPod  ...  GalaxyTablet  \\\n",
       "0                 0          1.0            1   0.0  ...           1.0   \n",
       "1                 1          0.0            1   0.0  ...           1.0   \n",
       "3                 0          0.0            1   1.0  ...           0.0   \n",
       "6                 0          0.0            0   0.0  ...           1.0   \n",
       "13                0          0.0            0   0.0  ...           1.0   \n",
       "16                1          0.0            1   0.0  ...           1.0   \n",
       "18                0          1.0            1   0.0  ...           0.0   \n",
       "19                0          0.0            1   1.0  ...           1.0   \n",
       "20                1          1.0            1   0.0  ...           0.0   \n",
       "21                0          0.0            0   0.0  ...           1.0   \n",
       "23                1          1.0            1   0.0  ...           1.0   \n",
       "24                1          0.0            1   0.0  ...           1.0   \n",
       "26                0          0.0            1   1.0  ...           1.0   \n",
       "28                0          0.0            0   0.0  ...           1.0   \n",
       "30                1          0.0            1   0.0  ...           1.0   \n",
       "\n",
       "    SurfaceTablet  HPLaptop  HDMICable  SpeakerCable  CallOfDutyGame  \\\n",
       "0             0.0         1          1           1.0               1   \n",
       "1             0.0         1          0           1.0               1   \n",
       "3             0.0         1          0           1.0               0   \n",
       "6             1.0         1          1           0.0               1   \n",
       "13            1.0         1          0           0.0               1   \n",
       "16            0.0         1          1           1.0               1   \n",
       "18            1.0         1          0           1.0               1   \n",
       "19            0.0         1          0           0.0               1   \n",
       "20            1.0         1          0           1.0               0   \n",
       "21            0.0         1          0           0.0               1   \n",
       "23            1.0         1          1           0.0               1   \n",
       "24            0.0         1          1           1.0               1   \n",
       "26            0.0         1          1           1.0               0   \n",
       "28            0.0         1          1           1.0               1   \n",
       "30            0.0         1          1           1.0               0   \n",
       "\n",
       "    GrandTheftAutoGame  ASUSLaptop  LenevoLaptop  TVStandWallMount  \n",
       "0                  0.0           1             1               1.0  \n",
       "1                  0.0           1             1               1.0  \n",
       "3                  0.0           1             0               0.0  \n",
       "6                  1.0           0             0               1.0  \n",
       "13                 0.0           1             1               1.0  \n",
       "16                 0.0           1             1               1.0  \n",
       "18                 0.0           1             1               1.0  \n",
       "19                 1.0           0             0               1.0  \n",
       "20                 0.0           1             1               0.0  \n",
       "21                 0.0           1             1               1.0  \n",
       "23                 0.0           1             1               1.0  \n",
       "24                 0.0           1             1               1.0  \n",
       "26                 0.0           1             1               0.0  \n",
       "28                 0.0           1             1               1.0  \n",
       "30                 0.0           1             1               0.0  \n",
       "\n",
       "[15 rows x 34 columns]"
      ]
     },
     "execution_count": 21,
     "metadata": {},
     "output_type": "execute_result"
    }
   ],
   "source": [
    "cleandata = cleandata.dropna()\n",
    "cleandata.shape\n",
    "cleandata.head(15)"
   ]
  },
  {
   "cell_type": "code",
   "execution_count": 22,
   "metadata": {},
   "outputs": [
    {
     "data": {
      "text/plain": [
       "<AxesSubplot:>"
      ]
     },
     "execution_count": 22,
     "metadata": {},
     "output_type": "execute_result"
    },
    {
     "data": {
      "image/png": "[encoded data removed]",
      "text/plain": [
       "<Figure size 432x288 with 1 Axes>"
      ]
     },
     "metadata": {
      "needs_background": "light"
     },
     "output_type": "display_data"
    }
   ],
   "source": [
    "# after cleaning the customer age - does the boxplot still show outliers?\n",
    "# how does the histogram look?\n",
    "# if this does not look better - you are not ready to proceed\n",
    "cleandata.boxplot(column='CustomerAge')\n"
   ]
  },
  {
   "cell_type": "code",
   "execution_count": 23,
   "metadata": {},
   "outputs": [
    {
     "data": {
      "text/plain": [
       "<AxesSubplot:>"
      ]
     },
     "execution_count": 23,
     "metadata": {},
     "output_type": "execute_result"
    },
    {
     "data": {
      "image/png": "[encoded data removed]",
      "text/plain": [
       "<Figure size 432x288 with 1 Axes>"
      ]
     },
     "metadata": {
      "needs_background": "light"
     },
     "output_type": "display_data"
    }
   ],
   "source": [
    "cleandata['CustomerAge'].hist(bins=20)"
   ]
  },
  {
   "cell_type": "markdown",
   "metadata": {},
   "source": [
    "### Lets store the cleaned data into the Database"
   ]
  },
  {
   "cell_type": "code",
   "execution_count": 24,
   "metadata": {},
   "outputs": [
    {
     "data": {
      "text/plain": [
       "(7338, 34)"
      ]
     },
     "execution_count": 24,
     "metadata": {},
     "output_type": "execute_result"
    }
   ],
   "source": [
    "# how many records did you end up with after the data cleaning?\n",
    "cleandata.shape"
   ]
  },
  {
   "cell_type": "code",
   "execution_count": 25,
   "metadata": {},
   "outputs": [],
   "source": [
    "# now that your data has been cleaned, lets store it in a database\n",
    "\n",
    "# NOTE - the parameters to replace an existing database if it already exists\n",
    "\n",
    "engine = create_engine('sqlite:///bestdeal.db')"
   ]
  },
  {
   "cell_type": "code",
   "execution_count": 26,
   "metadata": {},
   "outputs": [],
   "source": [
    "cleandata.to_sql('trans4cust', engine, if_exists = 'replace', index = False)"
   ]
  },
  {
   "cell_type": "markdown",
   "metadata": {},
   "source": [
    "** Sanity Test: Did it create the table in bestdeal.db?  Check!!**"
   ]
  },
  {
   "cell_type": "code",
   "execution_count": 23,
   "metadata": {},
   "outputs": [],
   "source": [
    "insp = inspect(engine)"
   ]
  },
  {
   "cell_type": "code",
   "execution_count": 24,
   "metadata": {},
   "outputs": [
    {
     "data": {
      "text/plain": [
       "['trans4cust']"
      ]
     },
     "execution_count": 24,
     "metadata": {},
     "output_type": "execute_result"
    }
   ],
   "source": [
    "insp.get_table_names()"
   ]
  },
  {
   "cell_type": "code",
   "execution_count": 25,
   "metadata": {},
   "outputs": [
    {
     "data": {
      "text/plain": [
       "Index(['ZipCode', 'CustomerAge', 'SamsungTV46LED', 'SonyTV42LED', 'XBOX360',\n",
       "       'DellLaptop', 'BoseSoundSystem', 'BoseHeadSet', 'SonyHeadSet', 'iPod',\n",
       "       'iPhone', 'Panasonic50LED', 'SonyPS4', 'WiiU', 'WDexternalHD',\n",
       "       'SamsungTV55LED', 'SonyTV60LED', 'SandiskMemoryCard', 'SonySoundSystem',\n",
       "       'SonyCamera', 'PanasonicCamera', 'HPPrinter', 'SonyDVDplayer',\n",
       "       'ToshibaDVDplayer', 'GalaxyTablet', 'SurfaceTablet', 'HPLaptop',\n",
       "       'HDMICable', 'SpeakerCable', 'CallOfDutyGame', 'GrandTheftAutoGame',\n",
       "       'ASUSLaptop', 'LenevoLaptop', 'TVStandWallMount'],\n",
       "      dtype='object')"
      ]
     },
     "execution_count": 25,
     "metadata": {},
     "output_type": "execute_result"
    }
   ],
   "source": [
    "pd.read_sql_table('trans4cust', engine).columns"
   ]
  },
  {
   "cell_type": "raw",
   "metadata": {},
   "source": [
    "should produce the columns of the DataFrame you wrote to the db.  "
   ]
  },
  {
   "cell_type": "markdown",
   "metadata": {},
   "source": [
    "### Now we are ready to query the Database"
   ]
  },
  {
   "cell_type": "markdown",
   "metadata": {},
   "source": [
    "#### Query example #1: get the transactions for the customers in zipCode 60616"
   ]
  },
  {
   "cell_type": "code",
   "execution_count": 26,
   "metadata": {},
   "outputs": [],
   "source": [
    "# ======================================================================\n",
    "# **********************************************************************\n",
    "# \n",
    "# WARNING - this pre-run notebook is using dirty data\n",
    "# WARNING - after cleaning the data, your output should look different\n",
    "#\n",
    "# ======================================================================\n",
    "# **********************************************************************"
   ]
  },
  {
   "cell_type": "code",
   "execution_count": 27,
   "metadata": {},
   "outputs": [
    {
     "data": {
      "text/html": [
       "<div>\n",
       "<style scoped>\n",
       "    .dataframe tbody tr th:only-of-type {\n",
       "        vertical-align: middle;\n",
       "    }\n",
       "\n",
       "    .dataframe tbody tr th {\n",
       "        vertical-align: top;\n",
       "    }\n",
       "\n",
       "    .dataframe thead th {\n",
       "        text-align: right;\n",
       "    }\n",
       "</style>\n",
       "<table border=\"1\" class=\"dataframe\">\n",
       "  <thead>\n",
       "    <tr style=\"text-align: right;\">\n",
       "      <th></th>\n",
       "      <th>ZipCode</th>\n",
       "      <th>CustomerAge</th>\n",
       "      <th>SamsungTV46LED</th>\n",
       "      <th>SonyTV42LED</th>\n",
       "      <th>XBOX360</th>\n",
       "      <th>DellLaptop</th>\n",
       "      <th>BoseSoundSystem</th>\n",
       "      <th>BoseHeadSet</th>\n",
       "      <th>SonyHeadSet</th>\n",
       "      <th>iPod</th>\n",
       "      <th>...</th>\n",
       "      <th>GalaxyTablet</th>\n",
       "      <th>SurfaceTablet</th>\n",
       "      <th>HPLaptop</th>\n",
       "      <th>HDMICable</th>\n",
       "      <th>SpeakerCable</th>\n",
       "      <th>CallOfDutyGame</th>\n",
       "      <th>GrandTheftAutoGame</th>\n",
       "      <th>ASUSLaptop</th>\n",
       "      <th>LenevoLaptop</th>\n",
       "      <th>TVStandWallMount</th>\n",
       "    </tr>\n",
       "  </thead>\n",
       "  <tbody>\n",
       "    <tr>\n",
       "      <th>0</th>\n",
       "      <td>60616</td>\n",
       "      <td>56</td>\n",
       "      <td>0</td>\n",
       "      <td>1</td>\n",
       "      <td>1</td>\n",
       "      <td>1.0</td>\n",
       "      <td>0</td>\n",
       "      <td>0.0</td>\n",
       "      <td>1</td>\n",
       "      <td>1.0</td>\n",
       "      <td>...</td>\n",
       "      <td>0.0</td>\n",
       "      <td>0.0</td>\n",
       "      <td>1</td>\n",
       "      <td>0</td>\n",
       "      <td>1.0</td>\n",
       "      <td>0</td>\n",
       "      <td>0.0</td>\n",
       "      <td>1</td>\n",
       "      <td>0</td>\n",
       "      <td>0.0</td>\n",
       "    </tr>\n",
       "    <tr>\n",
       "      <th>1</th>\n",
       "      <td>60616</td>\n",
       "      <td>43</td>\n",
       "      <td>0</td>\n",
       "      <td>1</td>\n",
       "      <td>1</td>\n",
       "      <td>0.0</td>\n",
       "      <td>1</td>\n",
       "      <td>0.0</td>\n",
       "      <td>1</td>\n",
       "      <td>0.0</td>\n",
       "      <td>...</td>\n",
       "      <td>1.0</td>\n",
       "      <td>0.0</td>\n",
       "      <td>1</td>\n",
       "      <td>1</td>\n",
       "      <td>1.0</td>\n",
       "      <td>1</td>\n",
       "      <td>0.0</td>\n",
       "      <td>1</td>\n",
       "      <td>1</td>\n",
       "      <td>1.0</td>\n",
       "    </tr>\n",
       "    <tr>\n",
       "      <th>2</th>\n",
       "      <td>60616</td>\n",
       "      <td>54</td>\n",
       "      <td>1</td>\n",
       "      <td>0</td>\n",
       "      <td>0</td>\n",
       "      <td>1.0</td>\n",
       "      <td>0</td>\n",
       "      <td>1.0</td>\n",
       "      <td>1</td>\n",
       "      <td>0.0</td>\n",
       "      <td>...</td>\n",
       "      <td>0.0</td>\n",
       "      <td>1.0</td>\n",
       "      <td>1</td>\n",
       "      <td>0</td>\n",
       "      <td>1.0</td>\n",
       "      <td>1</td>\n",
       "      <td>0.0</td>\n",
       "      <td>1</td>\n",
       "      <td>1</td>\n",
       "      <td>1.0</td>\n",
       "    </tr>\n",
       "    <tr>\n",
       "      <th>3</th>\n",
       "      <td>60616</td>\n",
       "      <td>43</td>\n",
       "      <td>1</td>\n",
       "      <td>1</td>\n",
       "      <td>1</td>\n",
       "      <td>0.0</td>\n",
       "      <td>1</td>\n",
       "      <td>1.0</td>\n",
       "      <td>1</td>\n",
       "      <td>0.0</td>\n",
       "      <td>...</td>\n",
       "      <td>1.0</td>\n",
       "      <td>1.0</td>\n",
       "      <td>1</td>\n",
       "      <td>1</td>\n",
       "      <td>0.0</td>\n",
       "      <td>1</td>\n",
       "      <td>0.0</td>\n",
       "      <td>1</td>\n",
       "      <td>1</td>\n",
       "      <td>1.0</td>\n",
       "    </tr>\n",
       "    <tr>\n",
       "      <th>4</th>\n",
       "      <td>60616</td>\n",
       "      <td>31</td>\n",
       "      <td>0</td>\n",
       "      <td>1</td>\n",
       "      <td>1</td>\n",
       "      <td>1.0</td>\n",
       "      <td>0</td>\n",
       "      <td>0.0</td>\n",
       "      <td>1</td>\n",
       "      <td>1.0</td>\n",
       "      <td>...</td>\n",
       "      <td>1.0</td>\n",
       "      <td>0.0</td>\n",
       "      <td>1</td>\n",
       "      <td>1</td>\n",
       "      <td>1.0</td>\n",
       "      <td>1</td>\n",
       "      <td>1.0</td>\n",
       "      <td>0</td>\n",
       "      <td>0</td>\n",
       "      <td>1.0</td>\n",
       "    </tr>\n",
       "  </tbody>\n",
       "</table>\n",
       "<p>5 rows × 34 columns</p>\n",
       "</div>"
      ],
      "text/plain": [
       "   ZipCode  CustomerAge  SamsungTV46LED  SonyTV42LED  XBOX360  DellLaptop  \\\n",
       "0    60616           56               0            1        1         1.0   \n",
       "1    60616           43               0            1        1         0.0   \n",
       "2    60616           54               1            0        0         1.0   \n",
       "3    60616           43               1            1        1         0.0   \n",
       "4    60616           31               0            1        1         1.0   \n",
       "\n",
       "   BoseSoundSystem  BoseHeadSet  SonyHeadSet  iPod  ...  GalaxyTablet  \\\n",
       "0                0          0.0            1   1.0  ...           0.0   \n",
       "1                1          0.0            1   0.0  ...           1.0   \n",
       "2                0          1.0            1   0.0  ...           0.0   \n",
       "3                1          1.0            1   0.0  ...           1.0   \n",
       "4                0          0.0            1   1.0  ...           1.0   \n",
       "\n",
       "   SurfaceTablet  HPLaptop  HDMICable  SpeakerCable  CallOfDutyGame  \\\n",
       "0            0.0         1          0           1.0               0   \n",
       "1            0.0         1          1           1.0               1   \n",
       "2            1.0         1          0           1.0               1   \n",
       "3            1.0         1          1           0.0               1   \n",
       "4            0.0         1          1           1.0               1   \n",
       "\n",
       "   GrandTheftAutoGame  ASUSLaptop  LenevoLaptop  TVStandWallMount  \n",
       "0                 0.0           1             0               0.0  \n",
       "1                 0.0           1             1               1.0  \n",
       "2                 0.0           1             1               1.0  \n",
       "3                 0.0           1             1               1.0  \n",
       "4                 1.0           0             0               1.0  \n",
       "\n",
       "[5 rows x 34 columns]"
      ]
     },
     "execution_count": 27,
     "metadata": {},
     "output_type": "execute_result"
    }
   ],
   "source": [
    "q1 = pd.read_sql_query(\"SELECT * \\\n",
    "                FROM trans4cust \\\n",
    "                WHERE ZipCode='60616'\", engine)\n",
    "\n",
    "q1.head()"
   ]
  },
  {
   "cell_type": "markdown",
   "metadata": {},
   "source": [
    "#### Query example #2: get the transactions for ALL customers"
   ]
  },
  {
   "cell_type": "code",
   "execution_count": 28,
   "metadata": {},
   "outputs": [
    {
     "data": {
      "text/html": [
       "<div>\n",
       "<style scoped>\n",
       "    .dataframe tbody tr th:only-of-type {\n",
       "        vertical-align: middle;\n",
       "    }\n",
       "\n",
       "    .dataframe tbody tr th {\n",
       "        vertical-align: top;\n",
       "    }\n",
       "\n",
       "    .dataframe thead th {\n",
       "        text-align: right;\n",
       "    }\n",
       "</style>\n",
       "<table border=\"1\" class=\"dataframe\">\n",
       "  <thead>\n",
       "    <tr style=\"text-align: right;\">\n",
       "      <th></th>\n",
       "      <th>ZipCode</th>\n",
       "      <th>CustomerAge</th>\n",
       "      <th>SamsungTV46LED</th>\n",
       "      <th>SonyTV42LED</th>\n",
       "      <th>XBOX360</th>\n",
       "      <th>DellLaptop</th>\n",
       "      <th>BoseSoundSystem</th>\n",
       "      <th>BoseHeadSet</th>\n",
       "      <th>SonyHeadSet</th>\n",
       "      <th>iPod</th>\n",
       "      <th>...</th>\n",
       "      <th>GalaxyTablet</th>\n",
       "      <th>SurfaceTablet</th>\n",
       "      <th>HPLaptop</th>\n",
       "      <th>HDMICable</th>\n",
       "      <th>SpeakerCable</th>\n",
       "      <th>CallOfDutyGame</th>\n",
       "      <th>GrandTheftAutoGame</th>\n",
       "      <th>ASUSLaptop</th>\n",
       "      <th>LenevoLaptop</th>\n",
       "      <th>TVStandWallMount</th>\n",
       "    </tr>\n",
       "  </thead>\n",
       "  <tbody>\n",
       "    <tr>\n",
       "      <th>0</th>\n",
       "      <td>30134</td>\n",
       "      <td>35</td>\n",
       "      <td>1</td>\n",
       "      <td>1</td>\n",
       "      <td>1</td>\n",
       "      <td>0.0</td>\n",
       "      <td>0</td>\n",
       "      <td>1.0</td>\n",
       "      <td>1</td>\n",
       "      <td>0.0</td>\n",
       "      <td>...</td>\n",
       "      <td>1.0</td>\n",
       "      <td>0.0</td>\n",
       "      <td>1</td>\n",
       "      <td>1</td>\n",
       "      <td>1.0</td>\n",
       "      <td>1</td>\n",
       "      <td>0.0</td>\n",
       "      <td>1</td>\n",
       "      <td>1</td>\n",
       "      <td>1.0</td>\n",
       "    </tr>\n",
       "    <tr>\n",
       "      <th>1</th>\n",
       "      <td>62791</td>\n",
       "      <td>43</td>\n",
       "      <td>0</td>\n",
       "      <td>1</td>\n",
       "      <td>0</td>\n",
       "      <td>0.0</td>\n",
       "      <td>1</td>\n",
       "      <td>0.0</td>\n",
       "      <td>1</td>\n",
       "      <td>0.0</td>\n",
       "      <td>...</td>\n",
       "      <td>1.0</td>\n",
       "      <td>0.0</td>\n",
       "      <td>1</td>\n",
       "      <td>0</td>\n",
       "      <td>1.0</td>\n",
       "      <td>1</td>\n",
       "      <td>0.0</td>\n",
       "      <td>1</td>\n",
       "      <td>1</td>\n",
       "      <td>1.0</td>\n",
       "    </tr>\n",
       "    <tr>\n",
       "      <th>2</th>\n",
       "      <td>60616</td>\n",
       "      <td>56</td>\n",
       "      <td>0</td>\n",
       "      <td>1</td>\n",
       "      <td>1</td>\n",
       "      <td>1.0</td>\n",
       "      <td>0</td>\n",
       "      <td>0.0</td>\n",
       "      <td>1</td>\n",
       "      <td>1.0</td>\n",
       "      <td>...</td>\n",
       "      <td>0.0</td>\n",
       "      <td>0.0</td>\n",
       "      <td>1</td>\n",
       "      <td>0</td>\n",
       "      <td>1.0</td>\n",
       "      <td>0</td>\n",
       "      <td>0.0</td>\n",
       "      <td>1</td>\n",
       "      <td>0</td>\n",
       "      <td>0.0</td>\n",
       "    </tr>\n",
       "    <tr>\n",
       "      <th>3</th>\n",
       "      <td>90033</td>\n",
       "      <td>44</td>\n",
       "      <td>1</td>\n",
       "      <td>1</td>\n",
       "      <td>1</td>\n",
       "      <td>1.0</td>\n",
       "      <td>0</td>\n",
       "      <td>0.0</td>\n",
       "      <td>0</td>\n",
       "      <td>0.0</td>\n",
       "      <td>...</td>\n",
       "      <td>1.0</td>\n",
       "      <td>1.0</td>\n",
       "      <td>1</td>\n",
       "      <td>1</td>\n",
       "      <td>0.0</td>\n",
       "      <td>1</td>\n",
       "      <td>1.0</td>\n",
       "      <td>0</td>\n",
       "      <td>0</td>\n",
       "      <td>1.0</td>\n",
       "    </tr>\n",
       "    <tr>\n",
       "      <th>4</th>\n",
       "      <td>62791</td>\n",
       "      <td>27</td>\n",
       "      <td>1</td>\n",
       "      <td>1</td>\n",
       "      <td>0</td>\n",
       "      <td>1.0</td>\n",
       "      <td>0</td>\n",
       "      <td>0.0</td>\n",
       "      <td>0</td>\n",
       "      <td>0.0</td>\n",
       "      <td>...</td>\n",
       "      <td>1.0</td>\n",
       "      <td>1.0</td>\n",
       "      <td>1</td>\n",
       "      <td>0</td>\n",
       "      <td>0.0</td>\n",
       "      <td>1</td>\n",
       "      <td>0.0</td>\n",
       "      <td>1</td>\n",
       "      <td>1</td>\n",
       "      <td>1.0</td>\n",
       "    </tr>\n",
       "  </tbody>\n",
       "</table>\n",
       "<p>5 rows × 34 columns</p>\n",
       "</div>"
      ],
      "text/plain": [
       "   ZipCode  CustomerAge  SamsungTV46LED  SonyTV42LED  XBOX360  DellLaptop  \\\n",
       "0    30134           35               1            1        1         0.0   \n",
       "1    62791           43               0            1        0         0.0   \n",
       "2    60616           56               0            1        1         1.0   \n",
       "3    90033           44               1            1        1         1.0   \n",
       "4    62791           27               1            1        0         1.0   \n",
       "\n",
       "   BoseSoundSystem  BoseHeadSet  SonyHeadSet  iPod  ...  GalaxyTablet  \\\n",
       "0                0          1.0            1   0.0  ...           1.0   \n",
       "1                1          0.0            1   0.0  ...           1.0   \n",
       "2                0          0.0            1   1.0  ...           0.0   \n",
       "3                0          0.0            0   0.0  ...           1.0   \n",
       "4                0          0.0            0   0.0  ...           1.0   \n",
       "\n",
       "   SurfaceTablet  HPLaptop  HDMICable  SpeakerCable  CallOfDutyGame  \\\n",
       "0            0.0         1          1           1.0               1   \n",
       "1            0.0         1          0           1.0               1   \n",
       "2            0.0         1          0           1.0               0   \n",
       "3            1.0         1          1           0.0               1   \n",
       "4            1.0         1          0           0.0               1   \n",
       "\n",
       "   GrandTheftAutoGame  ASUSLaptop  LenevoLaptop  TVStandWallMount  \n",
       "0                 0.0           1             1               1.0  \n",
       "1                 0.0           1             1               1.0  \n",
       "2                 0.0           1             0               0.0  \n",
       "3                 1.0           0             0               1.0  \n",
       "4                 0.0           1             1               1.0  \n",
       "\n",
       "[5 rows x 34 columns]"
      ]
     },
     "execution_count": 28,
     "metadata": {},
     "output_type": "execute_result"
    }
   ],
   "source": [
    "q2 = pd.read_sql_query(\"SELECT * \\\n",
    "                FROM trans4cust\", engine)\n",
    "\n",
    "q2.head()"
   ]
  },
  {
   "cell_type": "markdown",
   "metadata": {},
   "source": [
    "#### Query example #3: get the number of customers in every ZipCode sorted by ZipCode"
   ]
  },
  {
   "cell_type": "code",
   "execution_count": 29,
   "metadata": {},
   "outputs": [
    {
     "data": {
      "text/html": [
       "<div>\n",
       "<style scoped>\n",
       "    .dataframe tbody tr th:only-of-type {\n",
       "        vertical-align: middle;\n",
       "    }\n",
       "\n",
       "    .dataframe tbody tr th {\n",
       "        vertical-align: top;\n",
       "    }\n",
       "\n",
       "    .dataframe thead th {\n",
       "        text-align: right;\n",
       "    }\n",
       "</style>\n",
       "<table border=\"1\" class=\"dataframe\">\n",
       "  <thead>\n",
       "    <tr style=\"text-align: right;\">\n",
       "      <th></th>\n",
       "      <th>ZipCode</th>\n",
       "      <th>num_customers</th>\n",
       "    </tr>\n",
       "  </thead>\n",
       "  <tbody>\n",
       "    <tr>\n",
       "      <th>0</th>\n",
       "      <td>10065</td>\n",
       "      <td>750</td>\n",
       "    </tr>\n",
       "    <tr>\n",
       "      <th>1</th>\n",
       "      <td>30134</td>\n",
       "      <td>1133</td>\n",
       "    </tr>\n",
       "    <tr>\n",
       "      <th>2</th>\n",
       "      <td>30303</td>\n",
       "      <td>985</td>\n",
       "    </tr>\n",
       "    <tr>\n",
       "      <th>3</th>\n",
       "      <td>33129</td>\n",
       "      <td>531</td>\n",
       "    </tr>\n",
       "    <tr>\n",
       "      <th>4</th>\n",
       "      <td>33130</td>\n",
       "      <td>280</td>\n",
       "    </tr>\n",
       "  </tbody>\n",
       "</table>\n",
       "</div>"
      ],
      "text/plain": [
       "   ZipCode  num_customers\n",
       "0    10065            750\n",
       "1    30134           1133\n",
       "2    30303            985\n",
       "3    33129            531\n",
       "4    33130            280"
      ]
     },
     "execution_count": 29,
     "metadata": {},
     "output_type": "execute_result"
    }
   ],
   "source": [
    "q3 = pd.read_sql_query(\"SELECT ZipCode , COUNT(*) as 'num_customers' \\\n",
    "            FROM trans4cust \\\n",
    "            GROUP BY ZipCode \\\n",
    "            ORDER BY ZipCode\", engine)\n",
    "\n",
    "q3.head()"
   ]
  },
  {
   "cell_type": "markdown",
   "metadata": {},
   "source": [
    "#### Query example #4: get the number of customers for  every Age Group in ZipCode 60616 sorted by CustomerAge"
   ]
  },
  {
   "cell_type": "code",
   "execution_count": 30,
   "metadata": {},
   "outputs": [
    {
     "data": {
      "text/html": [
       "<div>\n",
       "<style scoped>\n",
       "    .dataframe tbody tr th:only-of-type {\n",
       "        vertical-align: middle;\n",
       "    }\n",
       "\n",
       "    .dataframe tbody tr th {\n",
       "        vertical-align: top;\n",
       "    }\n",
       "\n",
       "    .dataframe thead th {\n",
       "        text-align: right;\n",
       "    }\n",
       "</style>\n",
       "<table border=\"1\" class=\"dataframe\">\n",
       "  <thead>\n",
       "    <tr style=\"text-align: right;\">\n",
       "      <th></th>\n",
       "      <th>CustomerAge</th>\n",
       "      <th>num_customers</th>\n",
       "    </tr>\n",
       "  </thead>\n",
       "  <tbody>\n",
       "    <tr>\n",
       "      <th>0</th>\n",
       "      <td>21</td>\n",
       "      <td>56</td>\n",
       "    </tr>\n",
       "    <tr>\n",
       "      <th>1</th>\n",
       "      <td>22</td>\n",
       "      <td>32</td>\n",
       "    </tr>\n",
       "    <tr>\n",
       "      <th>2</th>\n",
       "      <td>23</td>\n",
       "      <td>40</td>\n",
       "    </tr>\n",
       "    <tr>\n",
       "      <th>3</th>\n",
       "      <td>25</td>\n",
       "      <td>88</td>\n",
       "    </tr>\n",
       "    <tr>\n",
       "      <th>4</th>\n",
       "      <td>26</td>\n",
       "      <td>48</td>\n",
       "    </tr>\n",
       "  </tbody>\n",
       "</table>\n",
       "</div>"
      ],
      "text/plain": [
       "   CustomerAge  num_customers\n",
       "0           21             56\n",
       "1           22             32\n",
       "2           23             40\n",
       "3           25             88\n",
       "4           26             48"
      ]
     },
     "execution_count": 30,
     "metadata": {},
     "output_type": "execute_result"
    }
   ],
   "source": [
    "q4 = pd.read_sql_query(\n",
    "        \"SELECT CustomerAge , COUNT(*) as 'num_customers' \\\n",
    "        FROM trans4cust \\\n",
    "        WHERE ZipCode=60616 \\\n",
    "        GROUP BY CustomerAge  \\\n",
    "        ORDER BY CustomerAge\", engine)\n",
    "\n",
    "q4.head()"
   ]
  },
  {
   "cell_type": "markdown",
   "metadata": {},
   "source": [
    "#### Query example #5: Plot in a stacked-bar figure the number of customers who bought SonyTV60LED and/or BoseSoundSystem in  every zipcode that has more than 400 customers who bought these two products(either bought one of these products or the two products)"
   ]
  },
  {
   "cell_type": "code",
   "execution_count": 31,
   "metadata": {},
   "outputs": [],
   "source": [
    "SonyTV60LEDCustTrans = pd.read_sql_query(\n",
    "    \"SELECT ZipCode , COUNT(*) as 'num_customers' \\\n",
    "    FROM trans4cust \\\n",
    "    WHERE SonyTV60LED=1  \\\n",
    "    GROUP BY ZipCode \\\n",
    "    HAVING COUNT(*) > 400\", engine)\n",
    "\n",
    "BoseSoundSystemCustTrans = pd.read_sql_query(\n",
    "    \"SELECT ZipCode , COUNT(*) as 'num_customers'\\\n",
    "    FROM trans4cust \\\n",
    "    WHERE BoseSoundSystem=1 \\\n",
    "    GROUP BY ZipCode \\\n",
    "    HAVING COUNT(*) > 400\", engine)"
   ]
  },
  {
   "cell_type": "code",
   "execution_count": 32,
   "metadata": {},
   "outputs": [
    {
     "data": {
      "text/html": [
       "<div>\n",
       "<style scoped>\n",
       "    .dataframe tbody tr th:only-of-type {\n",
       "        vertical-align: middle;\n",
       "    }\n",
       "\n",
       "    .dataframe tbody tr th {\n",
       "        vertical-align: top;\n",
       "    }\n",
       "\n",
       "    .dataframe thead th {\n",
       "        text-align: right;\n",
       "    }\n",
       "</style>\n",
       "<table border=\"1\" class=\"dataframe\">\n",
       "  <thead>\n",
       "    <tr style=\"text-align: right;\">\n",
       "      <th></th>\n",
       "      <th>ZipCode</th>\n",
       "      <th>num_customers</th>\n",
       "    </tr>\n",
       "  </thead>\n",
       "  <tbody>\n",
       "    <tr>\n",
       "      <th>0</th>\n",
       "      <td>10065</td>\n",
       "      <td>439</td>\n",
       "    </tr>\n",
       "    <tr>\n",
       "      <th>1</th>\n",
       "      <td>30134</td>\n",
       "      <td>757</td>\n",
       "    </tr>\n",
       "    <tr>\n",
       "      <th>2</th>\n",
       "      <td>30303</td>\n",
       "      <td>517</td>\n",
       "    </tr>\n",
       "    <tr>\n",
       "      <th>3</th>\n",
       "      <td>60616</td>\n",
       "      <td>689</td>\n",
       "    </tr>\n",
       "  </tbody>\n",
       "</table>\n",
       "</div>"
      ],
      "text/plain": [
       "   ZipCode  num_customers\n",
       "0    10065            439\n",
       "1    30134            757\n",
       "2    30303            517\n",
       "3    60616            689"
      ]
     },
     "execution_count": 32,
     "metadata": {},
     "output_type": "execute_result"
    }
   ],
   "source": [
    "SonyTV60LEDCustTrans"
   ]
  },
  {
   "cell_type": "code",
   "execution_count": 33,
   "metadata": {},
   "outputs": [
    {
     "data": {
      "text/html": [
       "<div>\n",
       "<style scoped>\n",
       "    .dataframe tbody tr th:only-of-type {\n",
       "        vertical-align: middle;\n",
       "    }\n",
       "\n",
       "    .dataframe tbody tr th {\n",
       "        vertical-align: top;\n",
       "    }\n",
       "\n",
       "    .dataframe thead th {\n",
       "        text-align: right;\n",
       "    }\n",
       "</style>\n",
       "<table border=\"1\" class=\"dataframe\">\n",
       "  <thead>\n",
       "    <tr style=\"text-align: right;\">\n",
       "      <th></th>\n",
       "      <th>ZipCode</th>\n",
       "      <th>num_customers</th>\n",
       "    </tr>\n",
       "  </thead>\n",
       "  <tbody>\n",
       "    <tr>\n",
       "      <th>0</th>\n",
       "      <td>30134</td>\n",
       "      <td>799</td>\n",
       "    </tr>\n",
       "    <tr>\n",
       "      <th>1</th>\n",
       "      <td>30303</td>\n",
       "      <td>464</td>\n",
       "    </tr>\n",
       "    <tr>\n",
       "      <th>2</th>\n",
       "      <td>60616</td>\n",
       "      <td>466</td>\n",
       "    </tr>\n",
       "    <tr>\n",
       "      <th>3</th>\n",
       "      <td>90033</td>\n",
       "      <td>404</td>\n",
       "    </tr>\n",
       "  </tbody>\n",
       "</table>\n",
       "</div>"
      ],
      "text/plain": [
       "   ZipCode  num_customers\n",
       "0    30134            799\n",
       "1    30303            464\n",
       "2    60616            466\n",
       "3    90033            404"
      ]
     },
     "execution_count": 33,
     "metadata": {},
     "output_type": "execute_result"
    }
   ],
   "source": [
    "BoseSoundSystemCustTrans"
   ]
  },
  {
   "cell_type": "code",
   "execution_count": 34,
   "metadata": {},
   "outputs": [
    {
     "data": {
      "text/plain": [
       "0    10065\n",
       "1    30134\n",
       "2    30303\n",
       "3    60616\n",
       "Name: ZipCode, dtype: int64"
      ]
     },
     "execution_count": 34,
     "metadata": {},
     "output_type": "execute_result"
    }
   ],
   "source": [
    "SonyTV60LEDCustTrans.ZipCode\n"
   ]
  },
  {
   "cell_type": "code",
   "execution_count": 35,
   "metadata": {},
   "outputs": [
    {
     "name": "stderr",
     "output_type": "stream",
     "text": [
      "<ipython-input-35-26bcf2712bb0>:10: DeprecationWarning: `np.int` is a deprecated alias for the builtin `int`. To silence this warning, use `int` by itself. Doing this will not modify any behavior and is safe. When replacing `np.int`, you may wish to use e.g. `np.int64` or `np.int32` to specify the precision. If you wish to review your current use, check the release note link for additional information.\n",
      "Deprecated in NumPy 1.20; for more details and guidance: https://numpy.org/devdocs/release/1.20.0-notes.html#deprecations\n",
      "  sonyZipCodeTuples = tuple(SonyTV60LEDCustTrans.ZipCode.astype(numpy.int))\n",
      "<ipython-input-35-26bcf2712bb0>:11: DeprecationWarning: `np.int` is a deprecated alias for the builtin `int`. To silence this warning, use `int` by itself. Doing this will not modify any behavior and is safe. When replacing `np.int`, you may wish to use e.g. `np.int64` or `np.int32` to specify the precision. If you wish to review your current use, check the release note link for additional information.\n",
      "Deprecated in NumPy 1.20; for more details and guidance: https://numpy.org/devdocs/release/1.20.0-notes.html#deprecations\n",
      "  sony_num_customersTuples = tuple(SonyTV60LEDCustTrans.num_customers.astype(numpy.int))\n",
      "<ipython-input-35-26bcf2712bb0>:13: DeprecationWarning: `np.int` is a deprecated alias for the builtin `int`. To silence this warning, use `int` by itself. Doing this will not modify any behavior and is safe. When replacing `np.int`, you may wish to use e.g. `np.int64` or `np.int32` to specify the precision. If you wish to review your current use, check the release note link for additional information.\n",
      "Deprecated in NumPy 1.20; for more details and guidance: https://numpy.org/devdocs/release/1.20.0-notes.html#deprecations\n",
      "  boseZipCodeTuples = tuple(BoseSoundSystemCustTrans.ZipCode.astype(numpy.int))\n",
      "<ipython-input-35-26bcf2712bb0>:14: DeprecationWarning: `np.int` is a deprecated alias for the builtin `int`. To silence this warning, use `int` by itself. Doing this will not modify any behavior and is safe. When replacing `np.int`, you may wish to use e.g. `np.int64` or `np.int32` to specify the precision. If you wish to review your current use, check the release note link for additional information.\n",
      "Deprecated in NumPy 1.20; for more details and guidance: https://numpy.org/devdocs/release/1.20.0-notes.html#deprecations\n",
      "  bose_num_customersTuples = tuple(BoseSoundSystemCustTrans.num_customers.astype(numpy.int))\n"
     ]
    }
   ],
   "source": [
    "import numpy\n",
    "\n",
    "#   There are zipcodes that Sony got bought but not Bose \n",
    "#   but there are also zipcodes that Bose got bought but not Sony\n",
    "#\n",
    "#   AND we need to use stacked-bar graph and we have a potentially asymmetrical set  of zipcode values\n",
    "#   So, we need to do somework to create the symmteric set of zipcode values for Sony and Bose\n",
    "\n",
    "\n",
    "sonyZipCodeTuples = tuple(SonyTV60LEDCustTrans.ZipCode.astype(numpy.int))\n",
    "sony_num_customersTuples = tuple(SonyTV60LEDCustTrans.num_customers.astype(numpy.int))\n",
    "\n",
    "boseZipCodeTuples = tuple(BoseSoundSystemCustTrans.ZipCode.astype(numpy.int))\n",
    "bose_num_customersTuples = tuple(BoseSoundSystemCustTrans.num_customers.astype(numpy.int))\n",
    "\n",
    "sony_dict = dict(zip(sonyZipCodeTuples, sony_num_customersTuples))\n",
    "bose_dict = dict(zip(boseZipCodeTuples, bose_num_customersTuples))\n",
    "\n",
    "for key in bose_dict.keys():\n",
    "    if ((key in sony_dict.keys()) == False): sony_dict[key]=0\n",
    "        \n",
    "for key in sony_dict.keys():\n",
    "    if ((key in bose_dict.keys()) == False): bose_dict[key]=0\n",
    "        \n",
    "bose_zip = sorted(bose_dict.keys())\n",
    "\n",
    "sony_zip = sorted(sony_dict.keys())\n",
    "\n",
    "bose_zip_tuple = tuple(bose_zip)\n",
    "\n",
    "sony_zip_tuple = tuple(sony_zip)\n",
    "\n",
    "bose_customer_list = []\n",
    "\n",
    "for bose in bose_zip_tuple:\n",
    "    bose_customer_list.append(bose_dict[bose])\n",
    "\n",
    "sony_customer_list = []\n",
    "\n",
    "for sony in sony_zip_tuple:\n",
    "    sony_customer_list.append(sony_dict[sony])\n",
    "\n",
    "bose_customer_tuple = tuple(bose_customer_list)\n",
    "sony_customer_tuple = tuple(sony_customer_list)\n"
   ]
  },
  {
   "cell_type": "code",
   "execution_count": 36,
   "metadata": {},
   "outputs": [
    {
     "data": {
      "text/plain": [
       "Text(0, 0.5, 'Number of Customers')"
      ]
     },
     "execution_count": 36,
     "metadata": {},
     "output_type": "execute_result"
    },
    {
     "data": {
      "text/plain": [
       "Text(0.5, 0, 'Zip Code')"
      ]
     },
     "execution_count": 36,
     "metadata": {},
     "output_type": "execute_result"
    },
    {
     "data": {
      "text/plain": [
       "Text(0.5, 1.0, 'Number of Customers by ZipCode and 2 Products')"
      ]
     },
     "execution_count": 36,
     "metadata": {},
     "output_type": "execute_result"
    },
    {
     "data": {
      "text/plain": [
       "([<matplotlib.axis.XTick at 0x7fba805d5220>,\n",
       "  <matplotlib.axis.XTick at 0x7fba805d51f0>,\n",
       "  <matplotlib.axis.XTick at 0x7fba805aa430>,\n",
       "  <matplotlib.axis.XTick at 0x7fba809676d0>,\n",
       "  <matplotlib.axis.XTick at 0x7fba80967be0>],\n",
       " [Text(0.5, 0, '10065'),\n",
       "  Text(1.5, 0, '30134'),\n",
       "  Text(2.5, 0, '30303'),\n",
       "  Text(3.5, 0, '60616'),\n",
       "  Text(4.5, 0, '90033')])"
      ]
     },
     "execution_count": 36,
     "metadata": {},
     "output_type": "execute_result"
    },
    {
     "data": {
      "text/plain": [
       "([<matplotlib.axis.YTick at 0x7fba805d5a60>,\n",
       "  <matplotlib.axis.YTick at 0x7fba805d56a0>,\n",
       "  <matplotlib.axis.YTick at 0x7fba8059e550>,\n",
       "  <matplotlib.axis.YTick at 0x7fba8093b5b0>,\n",
       "  <matplotlib.axis.YTick at 0x7fba8093bc70>,\n",
       "  <matplotlib.axis.YTick at 0x7fba809431c0>,\n",
       "  <matplotlib.axis.YTick at 0x7fba809436d0>,\n",
       "  <matplotlib.axis.YTick at 0x7fba80943be0>,\n",
       "  <matplotlib.axis.YTick at 0x7fba8093b370>,\n",
       "  <matplotlib.axis.YTick at 0x7fba80967220>,\n",
       "  <matplotlib.axis.YTick at 0x7fba80943d90>,\n",
       "  <matplotlib.axis.YTick at 0x7fba80a172e0>,\n",
       "  <matplotlib.axis.YTick at 0x7fba80a177f0>,\n",
       "  <matplotlib.axis.YTick at 0x7fba80a17d00>,\n",
       "  <matplotlib.axis.YTick at 0x7fba80a20250>,\n",
       "  <matplotlib.axis.YTick at 0x7fba80a20760>,\n",
       "  <matplotlib.axis.YTick at 0x7fba80a20c70>,\n",
       "  <matplotlib.axis.YTick at 0x7fba80a17850>,\n",
       "  <matplotlib.axis.YTick at 0x7fba80943ca0>,\n",
       "  <matplotlib.axis.YTick at 0x7fba80a20880>],\n",
       " [Text(0, 0, ''),\n",
       "  Text(0, 0, ''),\n",
       "  Text(0, 0, ''),\n",
       "  Text(0, 0, ''),\n",
       "  Text(0, 0, ''),\n",
       "  Text(0, 0, ''),\n",
       "  Text(0, 0, ''),\n",
       "  Text(0, 0, ''),\n",
       "  Text(0, 0, ''),\n",
       "  Text(0, 0, ''),\n",
       "  Text(0, 0, ''),\n",
       "  Text(0, 0, ''),\n",
       "  Text(0, 0, ''),\n",
       "  Text(0, 0, ''),\n",
       "  Text(0, 0, ''),\n",
       "  Text(0, 0, ''),\n",
       "  Text(0, 0, ''),\n",
       "  Text(0, 0, ''),\n",
       "  Text(0, 0, ''),\n",
       "  Text(0, 0, '')])"
      ]
     },
     "execution_count": 36,
     "metadata": {},
     "output_type": "execute_result"
    },
    {
     "data": {
      "text/plain": [
       "<matplotlib.legend.Legend at 0x7fba80961400>"
      ]
     },
     "execution_count": 36,
     "metadata": {},
     "output_type": "execute_result"
    },
    {
     "data": {
      "image/png": "[encoded data removed]",
      "text/plain": [
       "<Figure size 432x288 with 1 Axes>"
      ]
     },
     "metadata": {
      "needs_background": "light"
     },
     "output_type": "display_data"
    }
   ],
   "source": [
    "# See docs for bar_stack at the URL\n",
    "# http://matplotlib.org/examples/pylab_examples/bar_stacked.html\n",
    "\n",
    "import numpy as np\n",
    "import matplotlib.pyplot as plt\n",
    "\n",
    "%matplotlib inline \n",
    "\n",
    "ind = np.arange(len(sony_customer_tuple))    \n",
    "\n",
    "# the width of the bars: can also be len(x) sequence\n",
    "width = .5\n",
    "\n",
    "p1 = plt.bar(ind, sony_customer_tuple, width,  color='r')\n",
    "p2 = plt.bar(ind, bose_customer_tuple, width, color='y', bottom=sony_customer_tuple)\n",
    "\n",
    "plt.ylabel('Number of Customers')\n",
    "plt.xlabel('Zip Code')\n",
    "\n",
    "plt.title('Number of Customers by ZipCode and 2 Products')\n",
    "\n",
    "plt.xticks(ind + width, sony_zip_tuple, horizontalalignment='right')\n",
    "\n",
    "plt.yticks(np.arange(0, 2000, 100))\n",
    "plt.legend((p1[0], p2[0]), ('Sony', 'Bose'))\n",
    "\n",
    "plt.show()"
   ]
  },
  {
   "attachments": {
    "image.png": {
     "image/png": "[encoded data removed]"
    }
   },
   "cell_type": "markdown",
   "metadata": {},
   "source": [
    "## Alternative code for above 2 cells\n",
    "\n",
    "### Join Options\n",
    "![image.png](attachment:image.png)\n",
    "https://www.datasciencemadesimple.com/join-merge-data-frames-pandas-python/"
   ]
  },
  {
   "cell_type": "code",
   "execution_count": 37,
   "metadata": {},
   "outputs": [
    {
     "data": {
      "image/png": "[encoded data removed]",
      "text/plain": [
       "<Figure size 432x288 with 1 Axes>"
      ]
     },
     "metadata": {
      "needs_background": "light"
     },
     "output_type": "display_data"
    }
   ],
   "source": [
    "import numpy as np\n",
    "import matplotlib.pyplot as plt\n",
    "\n",
    "%matplotlib inline \n",
    "\n",
    "df =pd.merge(SonyTV60LEDCustTrans, BoseSoundSystemCustTrans, \n",
    "         on='ZipCode',how='outer').fillna(0)\n",
    "#df\n",
    "\n",
    "df.columns = ['ZipCode', 'Sony', 'Bose'];\n",
    "df.set_index('ZipCode').plot(kind='bar',stacked=True,\n",
    "                             rot = 0, color=['r','y']);\n",
    "plt.ylabel('Number of Customers');\n",
    "plt.show();"
   ]
  },
  {
   "cell_type": "markdown",
   "metadata": {},
   "source": [
    "<div class=\"alert alert-block alert-warning\">\n",
    "    \n",
    "# Requirements :\n",
    "\n",
    "Answer the homework questions below; add cells as needed.\n",
    "\n",
    "</div>"
   ]
  },
  {
   "cell_type": "markdown",
   "metadata": {},
   "source": [
    "### Requirement 1 (7 points)\n",
    "\n",
    "Show the shape of your data and the variable types of your data. You will get points for **clean data** - no NA's, product values of only 0 or 1, valid customer ages, and zipcodes with 5 digits."
   ]
  },
  {
   "cell_type": "code",
   "execution_count": 38,
   "metadata": {},
   "outputs": [
    {
     "data": {
      "text/plain": [
       "(7338, 34)"
      ]
     },
     "execution_count": 38,
     "metadata": {},
     "output_type": "execute_result"
    },
    {
     "name": "stdout",
     "output_type": "stream",
     "text": [
      "<class 'pandas.core.frame.DataFrame'>\n",
      "Int64Index: 7338 entries, 0 to 9999\n",
      "Data columns (total 34 columns):\n",
      " #   Column              Non-Null Count  Dtype  \n",
      "---  ------              --------------  -----  \n",
      " 0   ZipCode             7338 non-null   int64  \n",
      " 1   CustomerAge         7338 non-null   int64  \n",
      " 2   SamsungTV46LED      7338 non-null   int64  \n",
      " 3   SonyTV42LED         7338 non-null   int64  \n",
      " 4   XBOX360             7338 non-null   int64  \n",
      " 5   DellLaptop          7338 non-null   float64\n",
      " 6   BoseSoundSystem     7338 non-null   int64  \n",
      " 7   BoseHeadSet         7338 non-null   float64\n",
      " 8   SonyHeadSet         7338 non-null   int64  \n",
      " 9   iPod                7338 non-null   float64\n",
      " 10  iPhone              7338 non-null   int64  \n",
      " 11  Panasonic50LED      7338 non-null   int64  \n",
      " 12  SonyPS4             7338 non-null   int64  \n",
      " 13  WiiU                7338 non-null   float64\n",
      " 14  WDexternalHD        7338 non-null   int64  \n",
      " 15  SamsungTV55LED      7338 non-null   float64\n",
      " 16  SonyTV60LED         7338 non-null   int64  \n",
      " 17  SandiskMemoryCard   7338 non-null   int64  \n",
      " 18  SonySoundSystem     7338 non-null   int64  \n",
      " 19  SonyCamera          7338 non-null   int64  \n",
      " 20  PanasonicCamera     7338 non-null   float64\n",
      " 21  HPPrinter           7338 non-null   float64\n",
      " 22  SonyDVDplayer       7338 non-null   int64  \n",
      " 23  ToshibaDVDplayer    7338 non-null   int64  \n",
      " 24  GalaxyTablet        7338 non-null   float64\n",
      " 25  SurfaceTablet       7338 non-null   float64\n",
      " 26  HPLaptop            7338 non-null   int64  \n",
      " 27  HDMICable           7338 non-null   int64  \n",
      " 28  SpeakerCable        7338 non-null   float64\n",
      " 29  CallOfDutyGame      7338 non-null   int64  \n",
      " 30  GrandTheftAutoGame  7338 non-null   float64\n",
      " 31  ASUSLaptop          7338 non-null   int64  \n",
      " 32  LenevoLaptop        7338 non-null   int64  \n",
      " 33  TVStandWallMount    7338 non-null   float64\n",
      "dtypes: float64(12), int64(22)\n",
      "memory usage: 2.0 MB\n"
     ]
    }
   ],
   "source": [
    "cleandata.shape\n",
    "cleandata.info()"
   ]
  },
  {
   "cell_type": "markdown",
   "metadata": {},
   "source": [
    "### Requirement 2 (7 points) - Use SQL/SQLite\n",
    "\n",
    "a) Show the top 3 zip codes with the most customers.  <br>\n",
    "b) Using just the top 3 zip codes, what are the ages of the customers? Sort the output by highest count on top."
   ]
  },
  {
   "cell_type": "code",
   "execution_count": 39,
   "metadata": {},
   "outputs": [
    {
     "name": "stdout",
     "output_type": "stream",
     "text": [
      "   ZipCode  num_customers\n",
      "0    30134           1133\n",
      "1    30303            985\n",
      "2    60616            951\n"
     ]
    }
   ],
   "source": [
    "topzips = pd.read_sql_query(\n",
    "    \"SELECT ZipCode, COUNT(*) as 'num_customers' \\\n",
    "    FROM trans4cust \\\n",
    "    GROUP BY ZipCode ORDER BY num_customers DESC LIMIT 3\", engine)\n",
    "print(topzips)\n",
    "\n",
    "#The top three zip codes with the most customers are 30134, 30303, and 60616."
   ]
  },
  {
   "cell_type": "code",
   "execution_count": 40,
   "metadata": {},
   "outputs": [
    {
     "data": {
      "text/html": [
       "<div>\n",
       "<style scoped>\n",
       "    .dataframe tbody tr th:only-of-type {\n",
       "        vertical-align: middle;\n",
       "    }\n",
       "\n",
       "    .dataframe tbody tr th {\n",
       "        vertical-align: top;\n",
       "    }\n",
       "\n",
       "    .dataframe thead th {\n",
       "        text-align: right;\n",
       "    }\n",
       "</style>\n",
       "<table border=\"1\" class=\"dataframe\">\n",
       "  <thead>\n",
       "    <tr style=\"text-align: right;\">\n",
       "      <th></th>\n",
       "      <th>CustomerAge</th>\n",
       "      <th>num_customers</th>\n",
       "    </tr>\n",
       "  </thead>\n",
       "  <tbody>\n",
       "    <tr>\n",
       "      <th>0</th>\n",
       "      <td>25</td>\n",
       "      <td>277</td>\n",
       "    </tr>\n",
       "    <tr>\n",
       "      <th>1</th>\n",
       "      <td>34</td>\n",
       "      <td>231</td>\n",
       "    </tr>\n",
       "    <tr>\n",
       "      <th>2</th>\n",
       "      <td>44</td>\n",
       "      <td>222</td>\n",
       "    </tr>\n",
       "    <tr>\n",
       "      <th>3</th>\n",
       "      <td>29</td>\n",
       "      <td>214</td>\n",
       "    </tr>\n",
       "    <tr>\n",
       "      <th>4</th>\n",
       "      <td>43</td>\n",
       "      <td>191</td>\n",
       "    </tr>\n",
       "  </tbody>\n",
       "</table>\n",
       "</div>"
      ],
      "text/plain": [
       "   CustomerAge  num_customers\n",
       "0           25            277\n",
       "1           34            231\n",
       "2           44            222\n",
       "3           29            214\n",
       "4           43            191"
      ]
     },
     "execution_count": 40,
     "metadata": {},
     "output_type": "execute_result"
    }
   ],
   "source": [
    "zipages = pd.read_sql_query(\n",
    "    \"SELECT CustomerAge, COUNT(*) as 'num_customers' \\\n",
    "    FROM trans4cust \\\n",
    "    WHERE (ZipCode = 30134.0 OR ZipCode = 30303.0 OR ZipCode = 60616.0) \\\n",
    "    GROUP BY CustomerAge \\\n",
    "    ORDER BY num_customers DESC\", engine)\n",
    "\n",
    "zipages.head(5)\n",
    "\n",
    "#The ages of the customers within the top three zip codes are \n"
   ]
  },
  {
   "cell_type": "markdown",
   "metadata": {},
   "source": [
    "### Requirement 3 (7 points) - Use SQL/SQLite\n",
    "\n",
    "Get the number of customers that bought both a DellLaptop and HPPrinter. Show the results for every age and sort the output by age so that the oldest customers are shown at the top."
   ]
  },
  {
   "cell_type": "code",
   "execution_count": 41,
   "metadata": {},
   "outputs": [
    {
     "data": {
      "text/html": [
       "<div>\n",
       "<style scoped>\n",
       "    .dataframe tbody tr th:only-of-type {\n",
       "        vertical-align: middle;\n",
       "    }\n",
       "\n",
       "    .dataframe tbody tr th {\n",
       "        vertical-align: top;\n",
       "    }\n",
       "\n",
       "    .dataframe thead th {\n",
       "        text-align: right;\n",
       "    }\n",
       "</style>\n",
       "<table border=\"1\" class=\"dataframe\">\n",
       "  <thead>\n",
       "    <tr style=\"text-align: right;\">\n",
       "      <th></th>\n",
       "      <th>CustomerAge</th>\n",
       "      <th>num_customers</th>\n",
       "    </tr>\n",
       "  </thead>\n",
       "  <tbody>\n",
       "    <tr>\n",
       "      <th>0</th>\n",
       "      <td>61</td>\n",
       "      <td>32</td>\n",
       "    </tr>\n",
       "    <tr>\n",
       "      <th>1</th>\n",
       "      <td>59</td>\n",
       "      <td>80</td>\n",
       "    </tr>\n",
       "    <tr>\n",
       "      <th>2</th>\n",
       "      <td>57</td>\n",
       "      <td>25</td>\n",
       "    </tr>\n",
       "    <tr>\n",
       "      <th>3</th>\n",
       "      <td>56</td>\n",
       "      <td>162</td>\n",
       "    </tr>\n",
       "    <tr>\n",
       "      <th>4</th>\n",
       "      <td>54</td>\n",
       "      <td>108</td>\n",
       "    </tr>\n",
       "  </tbody>\n",
       "</table>\n",
       "</div>"
      ],
      "text/plain": [
       "   CustomerAge  num_customers\n",
       "0           61             32\n",
       "1           59             80\n",
       "2           57             25\n",
       "3           56            162\n",
       "4           54            108"
      ]
     },
     "execution_count": 41,
     "metadata": {},
     "output_type": "execute_result"
    }
   ],
   "source": [
    "DellLaptopHPPrinterCustTrans = pd.read_sql_query(\n",
    "    \"SELECT CustomerAge, COUNT(*) as 'num_customers' \\\n",
    "    FROM trans4cust \\\n",
    "    WHERE DellLaptop = 1 AND HPPrinter = 1  \\\n",
    "    GROUP BY CustomerAge ORDER BY CustomerAge DESC\", engine)\n",
    "\n",
    "DellLaptopHPPrinterCustTrans.head(5)"
   ]
  },
  {
   "cell_type": "markdown",
   "metadata": {},
   "source": [
    "DellLaptopCustTrans = pd.read_sql_query(\n",
    "    \"SELECT CustomerAge , COUNT(*) as 'num_customers' \\\n",
    "    FROM trans4cust \\\n",
    "    WHERE DellLaptop = 1  \\\n",
    "    GROUP BY CustomerAge DESC\", engine)\n",
    "\n",
    "HPPrinterCustTrans = pd.read_sql_query(\n",
    "    \"SELECT CustomerAge , COUNT(*) as 'num_customers' \\\n",
    "    FROM trans4cust \\\n",
    "    WHERE HPPrinter = 1  \\\n",
    "    GROUP BY CustomerAge DESC\", engine\n",
    " "
   ]
  },
  {
   "cell_type": "markdown",
   "metadata": {},
   "source": [
    "### Requirement 4 (7 points) - Use SQL/SQLite\n",
    "\n",
    "a) How many customers are in the 25 and under group? <br>\n",
    "b) Of these customers, how many iPods were purchased? How many CallOfDutyGame were purchased? <br>\n",
    "c) How many customers are in the 55 and over group? <br>\n",
    "d) Of these customers, how many iPods were purchased? How many CallOfDutyGame were purchased? <br>"
   ]
  },
  {
   "cell_type": "code",
   "execution_count": 42,
   "metadata": {},
   "outputs": [
    {
     "data": {
      "text/html": [
       "<div>\n",
       "<style scoped>\n",
       "    .dataframe tbody tr th:only-of-type {\n",
       "        vertical-align: middle;\n",
       "    }\n",
       "\n",
       "    .dataframe tbody tr th {\n",
       "        vertical-align: top;\n",
       "    }\n",
       "\n",
       "    .dataframe thead th {\n",
       "        text-align: right;\n",
       "    }\n",
       "</style>\n",
       "<table border=\"1\" class=\"dataframe\">\n",
       "  <thead>\n",
       "    <tr style=\"text-align: right;\">\n",
       "      <th></th>\n",
       "      <th>num_customers</th>\n",
       "    </tr>\n",
       "  </thead>\n",
       "  <tbody>\n",
       "    <tr>\n",
       "      <th>0</th>\n",
       "      <td>1504</td>\n",
       "    </tr>\n",
       "  </tbody>\n",
       "</table>\n",
       "</div>"
      ],
      "text/plain": [
       "   num_customers\n",
       "0           1504"
      ]
     },
     "execution_count": 42,
     "metadata": {},
     "output_type": "execute_result"
    }
   ],
   "source": [
    "#UNDER 25 - CUSTOMER COUNT\n",
    "\n",
    "Under25 = pd.read_sql_query(\n",
    "    \"SELECT COUNT(*) as 'num_customers' \\\n",
    "    FROM trans4cust \\\n",
    "    WHERE CustomerAge <= 25\", engine)\n",
    "Under25.head()\n",
    "\n",
    "#1504 customers are in the 25 and younger group."
   ]
  },
  {
   "cell_type": "markdown",
   "metadata": {},
   "source": [
    "Under25 = pd.read_sql_query(\n",
    "    \"SELECT CustomerAge , COUNT(*) as 'num_customers' \\\n",
    "    FROM trans4cust \\\n",
    "    WHERE CustomerAge <= 25 \\\n",
    "    GROUP BY CustomerAge\", engine)\n",
    "Under25.head()"
   ]
  },
  {
   "cell_type": "code",
   "execution_count": 43,
   "metadata": {},
   "outputs": [
    {
     "data": {
      "text/html": [
       "<div>\n",
       "<style scoped>\n",
       "    .dataframe tbody tr th:only-of-type {\n",
       "        vertical-align: middle;\n",
       "    }\n",
       "\n",
       "    .dataframe tbody tr th {\n",
       "        vertical-align: top;\n",
       "    }\n",
       "\n",
       "    .dataframe thead th {\n",
       "        text-align: right;\n",
       "    }\n",
       "</style>\n",
       "<table border=\"1\" class=\"dataframe\">\n",
       "  <thead>\n",
       "    <tr style=\"text-align: right;\">\n",
       "      <th></th>\n",
       "      <th>num_customers</th>\n",
       "    </tr>\n",
       "  </thead>\n",
       "  <tbody>\n",
       "    <tr>\n",
       "      <th>0</th>\n",
       "      <td>243</td>\n",
       "    </tr>\n",
       "  </tbody>\n",
       "</table>\n",
       "</div>"
      ],
      "text/plain": [
       "   num_customers\n",
       "0            243"
      ]
     },
     "execution_count": 43,
     "metadata": {},
     "output_type": "execute_result"
    }
   ],
   "source": [
    "#UNDER 25 - IPODS PURCHASED\n",
    "\n",
    "Under25iPod = pd.read_sql_query(\n",
    "    \"SELECT COUNT(*) as 'num_customers' \\\n",
    "    FROM trans4cust \\\n",
    "    WHERE CustomerAge <= 25 AND iPod = 1 \\\n",
    "    GROUP BY iPod\", engine)\n",
    "Under25iPod.head()\n",
    "\n",
    "#243 iPods were purchased among customers 25 and younger."
   ]
  },
  {
   "cell_type": "code",
   "execution_count": 44,
   "metadata": {},
   "outputs": [
    {
     "data": {
      "text/html": [
       "<div>\n",
       "<style scoped>\n",
       "    .dataframe tbody tr th:only-of-type {\n",
       "        vertical-align: middle;\n",
       "    }\n",
       "\n",
       "    .dataframe tbody tr th {\n",
       "        vertical-align: top;\n",
       "    }\n",
       "\n",
       "    .dataframe thead th {\n",
       "        text-align: right;\n",
       "    }\n",
       "</style>\n",
       "<table border=\"1\" class=\"dataframe\">\n",
       "  <thead>\n",
       "    <tr style=\"text-align: right;\">\n",
       "      <th></th>\n",
       "      <th>num_customers</th>\n",
       "    </tr>\n",
       "  </thead>\n",
       "  <tbody>\n",
       "    <tr>\n",
       "      <th>0</th>\n",
       "      <td>1379</td>\n",
       "    </tr>\n",
       "  </tbody>\n",
       "</table>\n",
       "</div>"
      ],
      "text/plain": [
       "   num_customers\n",
       "0           1379"
      ]
     },
     "execution_count": 44,
     "metadata": {},
     "output_type": "execute_result"
    }
   ],
   "source": [
    "#UNDER 25 - CODS PURCHASED\n",
    "\n",
    "Under25COD = pd.read_sql_query(\n",
    "    \"SELECT COUNT(*) as 'num_customers' \\\n",
    "    FROM trans4cust \\\n",
    "    WHERE CustomerAge <= 25 and CallOfDutyGame = 1 \\\n",
    "    GROUP BY CallOfDutyGame\", engine)\n",
    "Under25COD.head()\n",
    "\n",
    "#1379 Call of Duty games were purchased among customers 25 and younger."
   ]
  },
  {
   "cell_type": "code",
   "execution_count": 45,
   "metadata": {},
   "outputs": [
    {
     "data": {
      "text/html": [
       "<div>\n",
       "<style scoped>\n",
       "    .dataframe tbody tr th:only-of-type {\n",
       "        vertical-align: middle;\n",
       "    }\n",
       "\n",
       "    .dataframe tbody tr th {\n",
       "        vertical-align: top;\n",
       "    }\n",
       "\n",
       "    .dataframe thead th {\n",
       "        text-align: right;\n",
       "    }\n",
       "</style>\n",
       "<table border=\"1\" class=\"dataframe\">\n",
       "  <thead>\n",
       "    <tr style=\"text-align: right;\">\n",
       "      <th></th>\n",
       "      <th>num_customers</th>\n",
       "    </tr>\n",
       "  </thead>\n",
       "  <tbody>\n",
       "    <tr>\n",
       "      <th>0</th>\n",
       "      <td>467</td>\n",
       "    </tr>\n",
       "  </tbody>\n",
       "</table>\n",
       "</div>"
      ],
      "text/plain": [
       "   num_customers\n",
       "0            467"
      ]
     },
     "execution_count": 45,
     "metadata": {},
     "output_type": "execute_result"
    }
   ],
   "source": [
    "#OVER 55 - CUSTOMER COUNT\n",
    "\n",
    "Over55 = pd.read_sql_query(\n",
    "    \"SELECT COUNT(*) as 'num_customers' \\\n",
    "    FROM trans4cust \\\n",
    "    WHERE CustomerAge >= 55\", engine)\n",
    "Over55.head()\n",
    "\n",
    "#467 customers are in the 55 and older group."
   ]
  },
  {
   "cell_type": "code",
   "execution_count": 46,
   "metadata": {},
   "outputs": [
    {
     "data": {
      "text/html": [
       "<div>\n",
       "<style scoped>\n",
       "    .dataframe tbody tr th:only-of-type {\n",
       "        vertical-align: middle;\n",
       "    }\n",
       "\n",
       "    .dataframe tbody tr th {\n",
       "        vertical-align: top;\n",
       "    }\n",
       "\n",
       "    .dataframe thead th {\n",
       "        text-align: right;\n",
       "    }\n",
       "</style>\n",
       "<table border=\"1\" class=\"dataframe\">\n",
       "  <thead>\n",
       "    <tr style=\"text-align: right;\">\n",
       "      <th></th>\n",
       "      <th>num_customers</th>\n",
       "    </tr>\n",
       "  </thead>\n",
       "  <tbody>\n",
       "    <tr>\n",
       "      <th>0</th>\n",
       "      <td>1057</td>\n",
       "    </tr>\n",
       "  </tbody>\n",
       "</table>\n",
       "</div>"
      ],
      "text/plain": [
       "   num_customers\n",
       "0           1057"
      ]
     },
     "execution_count": 46,
     "metadata": {},
     "output_type": "execute_result"
    }
   ],
   "source": [
    "#OVER 55 - IPODS PURCHASED\n",
    "\n",
    "Over55iPod = pd.read_sql_query(\n",
    "    \"SELECT COUNT(*) as 'num_customers' \\\n",
    "    FROM trans4cust \\\n",
    "    WHERE CustomerAge <= 55 and iPod = 1 \\\n",
    "    GROUP BY iPod\", engine)\n",
    "Over55iPod.head()\n",
    "\n",
    "#1057 iPods were purchased among customers 55 and older."
   ]
  },
  {
   "cell_type": "code",
   "execution_count": 47,
   "metadata": {},
   "outputs": [
    {
     "data": {
      "text/html": [
       "<div>\n",
       "<style scoped>\n",
       "    .dataframe tbody tr th:only-of-type {\n",
       "        vertical-align: middle;\n",
       "    }\n",
       "\n",
       "    .dataframe tbody tr th {\n",
       "        vertical-align: top;\n",
       "    }\n",
       "\n",
       "    .dataframe thead th {\n",
       "        text-align: right;\n",
       "    }\n",
       "</style>\n",
       "<table border=\"1\" class=\"dataframe\">\n",
       "  <thead>\n",
       "    <tr style=\"text-align: right;\">\n",
       "      <th></th>\n",
       "      <th>num_customers</th>\n",
       "    </tr>\n",
       "  </thead>\n",
       "  <tbody>\n",
       "    <tr>\n",
       "      <th>0</th>\n",
       "      <td>4911</td>\n",
       "    </tr>\n",
       "  </tbody>\n",
       "</table>\n",
       "</div>"
      ],
      "text/plain": [
       "   num_customers\n",
       "0           4911"
      ]
     },
     "execution_count": 47,
     "metadata": {},
     "output_type": "execute_result"
    }
   ],
   "source": [
    "#OVER 55 - CODS PURCHASED\n",
    "\n",
    "Over55COD = pd.read_sql_query(\n",
    "    \"SELECT COUNT(*) as 'num_customers' \\\n",
    "    FROM trans4cust \\\n",
    "    WHERE CustomerAge <= 55 and CallOfDutyGame = 1 \\\n",
    "    GROUP BY CallOfDutyGame\", engine)\n",
    "Over55COD.head()\n",
    "\n",
    "#4911 Call of Duty games were purchased among customers 55 and older."
   ]
  },
  {
   "cell_type": "markdown",
   "metadata": {},
   "source": [
    "### Requirement 5 (12 points) - Use SQL/SQLite\n",
    " \n",
    "Plot in a stacked-bar figure the number of customers who bought HPLaptop and/or HPPrinter but did NOT buy WDexternalHD for every CustomerAge group that has more than 100 customers who bought these two products (either bought one of these products or the two products but didn't buy WDexternalHD)."
   ]
  },
  {
   "cell_type": "code",
   "execution_count": 48,
   "metadata": {},
   "outputs": [
    {
     "data": {
      "image/png": "[encoded data removed]",
      "text/plain": [
       "<Figure size 432x288 with 1 Axes>"
      ]
     },
     "metadata": {
      "needs_background": "light"
     },
     "output_type": "display_data"
    }
   ],
   "source": [
    "HPLaptopCustTrans = pd.read_sql_query(\n",
    "    \"SELECT CustomerAge, COUNT(*) as 'num_customers' \\\n",
    "    FROM trans4cust \\\n",
    "    WHERE HPLaptop = 1 AND WDexternalHD = 0 \\\n",
    "    GROUP BY CustomerAge \\\n",
    "    HAVING COUNT(*) > 100\", engine) \n",
    "\n",
    "HPPrinterCustTrans = pd.read_sql_query(\n",
    "    \"SELECT CustomerAge, COUNT(*) as 'num_customers' \\\n",
    "    FROM trans4cust \\\n",
    "    WHERE HPPrinter = 1 AND WDexternalHD = 0 AND WDexternalHD = 0 \\\n",
    "    GROUP BY CustomerAge \\\n",
    "    HAVING COUNT(*) > 100\", engine) \n",
    "\n",
    "import numpy as np\n",
    "import matplotlib.pyplot as plt\n",
    "\n",
    "%matplotlib inline \n",
    "\n",
    "BarChart = pd.merge(HPLaptopCustTrans, HPPrinterCustTrans, \n",
    "         on ='CustomerAge', how ='outer').fillna(0)\n",
    "\n",
    "BarChart.columns = ['CustomerAge', 'HP Laptop', 'HP Printer'];\n",
    "BarChart.set_index('CustomerAge').plot(kind='bar',stacked=True,\n",
    "                             rot = 0, color=['r','y']);\n",
    "plt.ylabel('Number of Customers');\n",
    "plt.show();\n"
   ]
  }
 ],
 "metadata": {
  "kernelspec": {
   "display_name": "Python 3 (ipykernel)",
   "language": "python",
   "name": "python3"
  },
  "language_info": {
   "codemirror_mode": {
    "name": "ipython",
    "version": 3
   },
   "file_extension": ".py",
   "mimetype": "text/x-python",
   "name": "python",
   "nbconvert_exporter": "python",
   "pygments_lexer": "ipython3",
   "version": "3.9.7"
  },
  "toc": {
   "base_numbering": 1,
   "nav_menu": {},
   "number_sections": false,
   "sideBar": true,
   "skip_h1_title": false,
   "title_cell": "Table of Contents",
   "title_sidebar": "Contents",
   "toc_cell": false,
   "toc_position": {},
   "toc_section_display": true,
   "toc_window_display": false
  }
 },
 "nbformat": 4,
 "nbformat_minor": 1
}
